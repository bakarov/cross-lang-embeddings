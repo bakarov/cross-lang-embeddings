{
 "cells": [
  {
   "cell_type": "code",
   "execution_count": 170,
   "metadata": {
    "ExecuteTime": {
     "end_time": "2018-02-22T10:53:08.094905Z",
     "start_time": "2018-02-22T10:53:08.031601Z"
    }
   },
   "outputs": [
    {
     "name": "stdout",
     "output_type": "stream",
     "text": [
      "The line_profiler extension is already loaded. To reload it, use:\n",
      "  %reload_ext line_profiler\n"
     ]
    }
   ],
   "source": [
    "%load_ext line_profiler\n",
    "\n",
    "import os, datetime\n",
    "from gensim.models import KeyedVectors\n",
    "from pandas import read_csv\n",
    "import pandas\n",
    "import numpy as np\n",
    "from nltk.tokenize import RegexpTokenizer\n",
    "\n",
    "import scipy\n",
    "from scipy.spatial.distance import cosine\n",
    "from scipy.spatial import KDTree\n",
    "from scipy.stats import spearmanr\n",
    "\n",
    "from sklearn.model_selection import KFold, GroupKFold\n",
    "from sklearn.linear_model import LogisticRegressionCV\n",
    "from sklearn.svm import LinearSVC\n",
    "from sklearn.preprocessing import PolynomialFeatures, FunctionTransformer\n",
    "from sklearn.neighbors import KNeighborsClassifier\n",
    "from sklearn.naive_bayes import GaussianNB\n",
    "from sklearn.metrics import f1_score, accuracy_score, precision_score, recall_score\n",
    "from sklearn.pipeline import Pipeline\n",
    "\n",
    "import torch\n",
    "from torch.autograd import Variable\n",
    "from torch import nn\n",
    "from torch.nn import functional as F\n",
    "import skorch\n",
    "\n",
    "import matplotlib.pyplot as plt\n",
    "import seaborn as sns\n",
    "\n",
    "alpha_tokenizer = RegexpTokenizer('[А-Яа-яA-Za-z]\\w+')"
   ]
  },
  {
   "cell_type": "markdown",
   "metadata": {},
   "source": [
    "# Load data"
   ]
  },
  {
   "cell_type": "markdown",
   "metadata": {},
   "source": [
    "### Extrinsic"
   ]
  },
  {
   "cell_type": "code",
   "execution_count": 3,
   "metadata": {
    "ExecuteTime": {
     "end_time": "2018-02-21T14:14:55.487221Z",
     "start_time": "2018-02-21T14:14:55.206813Z"
    },
    "collapsed": true
   },
   "outputs": [],
   "source": [
    "good_essays = read_csv('../../plag/essays/good_essays_FORMATTED.csv')[['original_sentence', 'modified_sentence']].dropna().reset_index(drop=True)\n",
    "all_essays = read_csv('../../plag/essays/all_essays_FORMATTED.csv')[['original_sentence', 'modified_sentence']].dropna().reset_index(drop=True)"
   ]
  },
  {
   "cell_type": "code",
   "execution_count": 4,
   "metadata": {
    "ExecuteTime": {
     "end_time": "2018-02-21T14:14:55.577887Z",
     "start_time": "2018-02-21T14:14:55.489806Z"
    },
    "collapsed": true
   },
   "outputs": [],
   "source": [
    "paraphrases = read_csv('../../plag/cross-lang-paraphrase-with-docs.csv').sample(frac=1).reset_index(drop=True)\n",
    "strict_train_test_data = [(paraphrases.iloc[train_idx], paraphrases.iloc[test_idx]) for train_idx, test_idx in\n",
    "                          GroupKFold(n_splits=3).split(paraphrases, paraphrases.is_paraphrase.values, paraphrases.document.values)]\n",
    "mixed_train_test_data = [(paraphrases.iloc[train_idx], paraphrases.iloc[test_idx]) for train_idx, test_idx in\n",
    "                         KFold(n_splits=3, shuffle=True).split(paraphrases, paraphrases.is_paraphrase.values)]"
   ]
  },
  {
   "cell_type": "code",
   "execution_count": 84,
   "metadata": {
    "ExecuteTime": {
     "end_time": "2018-02-22T06:48:38.877836Z",
     "start_time": "2018-02-22T06:48:21.841492Z"
    }
   },
   "outputs": [
    {
     "name": "stderr",
     "output_type": "stream",
     "text": [
      "/root/.pyenv/versions/3.6.0/lib/python3.6/site-packages/numpy/lib/arraysetops.py:463: FutureWarning: elementwise comparison failed; returning scalar instead, but in the future will perform elementwise comparison\n",
      "  mask |= (ar1 == a)\n"
     ]
    }
   ],
   "source": [
    "yandex = read_csv('../../corpora/parallel/yandex/yandex_with_negative_sim.csv', index_col=0).sample(frac=1).reset_index(drop=True)\n",
    "yandex_train_test_data = [(yandex.iloc[train_idx], yandex.iloc[test_idx]) for train_idx, test_idx in\n",
    "                          KFold(n_splits=3).split(yandex, yandex.is_paraphrase.values)]"
   ]
  },
  {
   "cell_type": "code",
   "execution_count": 85,
   "metadata": {
    "ExecuteTime": {
     "end_time": "2018-02-22T06:48:39.197508Z",
     "start_time": "2018-02-22T06:48:38.879310Z"
    },
    "collapsed": true
   },
   "outputs": [],
   "source": [
    "EXTRINSIC_DATASETS = (\n",
    "    ('para strict', strict_train_test_data),\n",
    "#     ('para mixed', mixed_train_test_data),\n",
    "    ('yandex wmt', yandex_train_test_data),\n",
    ")"
   ]
  },
  {
   "cell_type": "code",
   "execution_count": 7,
   "metadata": {
    "ExecuteTime": {
     "end_time": "2018-02-21T14:15:11.843609Z",
     "start_time": "2018-02-21T14:15:11.624687Z"
    },
    "collapsed": true
   },
   "outputs": [],
   "source": [
    "en_ru_dict = {}\n",
    "\n",
    "with open('../../word-benchmarks/intrinsic/dictionary/en-ru.txt', 'r') as f:\n",
    "    for word_pair in f.read().split('\\n')[:-1]:\n",
    "        en_ru_dict[word_pair.split(' ')[0]] = word_pair.split(' ')[1]"
   ]
  },
  {
   "cell_type": "markdown",
   "metadata": {},
   "source": [
    "### Intrinsic"
   ]
  },
  {
   "cell_type": "code",
   "execution_count": 8,
   "metadata": {
    "ExecuteTime": {
     "end_time": "2018-02-21T14:15:11.862179Z",
     "start_time": "2018-02-21T14:15:11.851152Z"
    },
    "collapsed": true
   },
   "outputs": [],
   "source": [
    "english_russian_word_similarity = [\n",
    "                ('../../word-benchmarks/intrinsic/word-similarity/cross-lingual/en-ru/simverb-3500.csv', 'SimVerb-3074'),\n",
    "                ('../../word-benchmarks/men.csv', 'MEN-1146'),\n",
    "                ('../../word-benchmarks/intrinsic/word-similarity/cross-lingual/en-ru/rw.csv', 'RareWord-968'),\n",
    "                ('../../word-benchmarks/intrinsic/word-similarity/cross-lingual/en-ru/simlex999.csv', 'SimLex-739'),\n",
    "                ('../../word-benchmarks/intrinsic/word-similarity/cross-lingual/en-ru/mturk-771.csv', 'MTurk-551'),\n",
    "                ('../../word-benchmarks/intrinsic/word-similarity/cross-lingual/en-ru/semeval-2017.csv', 'SemEval-243'),\n",
    "                ('../../word-benchmarks/intrinsic/word-similarity/cross-lingual/en-ru/wordsim353-rel.csv', 'WordRel-193'),\n",
    "                ('../../word-benchmarks/intrinsic/word-similarity/cross-lingual/en-ru/wordsim353-sim.csv', 'WordSim-193'),\n",
    "                ('../../word-benchmarks/intrinsic/word-similarity/cross-lingual/en-ru/verb-143.csv', 'Verb-115'),\n",
    "                ('../../word-benchmarks/intrinsic/word-similarity/cross-lingual/en-ru/yp-130.csv', 'YP-111'),\n",
    "                ('../../word-benchmarks/rg-65.csv', 'RG-54'),\n",
    "                ('../../word-benchmarks/mc-30.csv', 'MC-28'),\n",
    "                ]"
   ]
  },
  {
   "cell_type": "markdown",
   "metadata": {},
   "source": [
    "### Models"
   ]
  },
  {
   "cell_type": "code",
   "execution_count": 9,
   "metadata": {
    "ExecuteTime": {
     "end_time": "2018-02-21T14:15:12.163940Z",
     "start_time": "2018-02-21T14:15:11.869317Z"
    },
    "collapsed": true
   },
   "outputs": [],
   "source": [
    "def convert_keyed_vectors_if_not_exists(src_path, target_path):\n",
    "    if os.path.exists(target_path):\n",
    "        return\n",
    "    model = KeyedVectors.load_word2vec_format(src_path)\n",
    "    model.save(target_path)"
   ]
  },
  {
   "cell_type": "markdown",
   "metadata": {},
   "source": [
    "Vecmap"
   ]
  },
  {
   "cell_type": "code",
   "execution_count": 10,
   "metadata": {
    "ExecuteTime": {
     "end_time": "2018-02-21T14:15:29.519463Z",
     "start_time": "2018-02-21T14:15:12.165782Z"
    },
    "collapsed": true
   },
   "outputs": [],
   "source": [
    "convert_keyed_vectors_if_not_exists('../cross-lang/MODELS/vecmap/en.vec', '../cross-lang/MODELS/vecmap/en.gensim')\n",
    "convert_keyed_vectors_if_not_exists('../cross-lang/MODELS/vecmap/ru.vec', '../cross-lang/MODELS/vecmap/ru.gensim')\n",
    "vecmap_en = KeyedVectors.load('../cross-lang/MODELS/vecmap/en.gensim', mmap='r')\n",
    "vecmap_ru = KeyedVectors.load('../cross-lang/MODELS/vecmap/ru.gensim', mmap='r')"
   ]
  },
  {
   "cell_type": "markdown",
   "metadata": {},
   "source": [
    "MUSE supervised"
   ]
  },
  {
   "cell_type": "code",
   "execution_count": 11,
   "metadata": {
    "ExecuteTime": {
     "end_time": "2018-02-21T14:15:30.700263Z",
     "start_time": "2018-02-21T14:15:29.521648Z"
    },
    "collapsed": true
   },
   "outputs": [],
   "source": [
    "convert_keyed_vectors_if_not_exists('../cross-lang/MODELS/muse_supervised/2db0qcgzth/vectors-en.txt', '../cross-lang/MODELS/muse_supervised/2db0qcgzth/vectors-en.gensim')\n",
    "convert_keyed_vectors_if_not_exists('../cross-lang/MODELS/muse_supervised/2db0qcgzth/vectors-ru.txt', '../cross-lang/MODELS/muse_supervised/2db0qcgzth/vectors-ru.gensim')\n",
    "muse_s_en = KeyedVectors.load('../cross-lang/MODELS/muse_supervised/2db0qcgzth/vectors-en.gensim', mmap='r')\n",
    "muse_s_ru = KeyedVectors.load('../cross-lang/MODELS/muse_supervised/2db0qcgzth/vectors-ru.gensim', mmap='r')"
   ]
  },
  {
   "cell_type": "markdown",
   "metadata": {},
   "source": [
    "MUSE unsupervised"
   ]
  },
  {
   "cell_type": "code",
   "execution_count": 12,
   "metadata": {
    "ExecuteTime": {
     "end_time": "2018-02-21T14:15:31.866136Z",
     "start_time": "2018-02-21T14:15:30.702137Z"
    },
    "collapsed": true
   },
   "outputs": [],
   "source": [
    "convert_keyed_vectors_if_not_exists('../cross-lang/MODELS/muse_unsupervised/vectors-en.txt', '../cross-lang/MODELS/muse_unsupervised/vectors-en.gensim')\n",
    "convert_keyed_vectors_if_not_exists('../cross-lang/MODELS/muse_unsupervised/vectors-ru.txt', '../cross-lang/MODELS/muse_unsupervised/vectors-ru.gensim')\n",
    "muse_u_en = KeyedVectors.load('../cross-lang/MODELS/muse_unsupervised/vectors-en.gensim', mmap='r')\n",
    "muse_u_ru = KeyedVectors.load('../cross-lang/MODELS/muse_unsupervised/vectors-ru.gensim', mmap='r')"
   ]
  },
  {
   "cell_type": "markdown",
   "metadata": {},
   "source": [
    "Bilingual CCA"
   ]
  },
  {
   "cell_type": "code",
   "execution_count": 13,
   "metadata": {
    "ExecuteTime": {
     "end_time": "2018-02-21T14:15:48.946239Z",
     "start_time": "2018-02-21T14:15:31.868304Z"
    },
    "collapsed": true
   },
   "outputs": [],
   "source": [
    "convert_keyed_vectors_if_not_exists('../cross-lang/MODELS/BiCCA/wiki.en.vec.ccaed.vec', '../cross-lang/MODELS/BiCCA/wiki.en.vec.ccaed.gensim')\n",
    "convert_keyed_vectors_if_not_exists('../cross-lang/MODELS/BiCCA/wiki.ru.vec.ccaed.vec', '../cross-lang/MODELS/BiCCA/wiki.ru.vec.ccaed.gensim')\n",
    "bi_cca_en = KeyedVectors.load('../cross-lang/MODELS/BiCCA/wiki.en.vec.ccaed.gensim', mmap='r')\n",
    "bi_cca_ru = KeyedVectors.load('../cross-lang/MODELS/BiCCA/wiki.ru.vec.ccaed.gensim', mmap='r')"
   ]
  },
  {
   "cell_type": "markdown",
   "metadata": {},
   "source": [
    "MultiFastText"
   ]
  },
  {
   "cell_type": "code",
   "execution_count": 14,
   "metadata": {
    "ExecuteTime": {
     "end_time": "2018-02-21T14:16:07.412403Z",
     "start_time": "2018-02-21T14:15:48.953521Z"
    },
    "collapsed": true
   },
   "outputs": [],
   "source": [
    "convert_keyed_vectors_if_not_exists('../cross-lang/MODELS/MFT/mft-en.vec', '../cross-lang/MODELS/MFT/mft-en.gensim')\n",
    "convert_keyed_vectors_if_not_exists('../cross-lang/MODELS/MFT/mft-ru.vec', '../cross-lang/MODELS/MFT/mft-ru.gensim')\n",
    "mft_en = KeyedVectors.load('../cross-lang/MODELS/MFT/mft-en.gensim', mmap='r')\n",
    "mft_ru = KeyedVectors.load('../cross-lang/MODELS/MFT/mft-ru.gensim', mmap='r')"
   ]
  },
  {
   "cell_type": "code",
   "execution_count": 15,
   "metadata": {
    "ExecuteTime": {
     "end_time": "2018-02-21T14:16:07.418026Z",
     "start_time": "2018-02-21T14:16:07.415585Z"
    },
    "collapsed": true
   },
   "outputs": [],
   "source": [
    "# mft_en.vector_size = mft_en.n_dim\n",
    "# mft_ru.vector_size = mft_ru.n_dim"
   ]
  },
  {
   "cell_type": "code",
   "execution_count": 16,
   "metadata": {
    "ExecuteTime": {
     "end_time": "2018-02-21T14:16:07.513515Z",
     "start_time": "2018-02-21T14:16:07.419905Z"
    },
    "collapsed": true
   },
   "outputs": [],
   "source": [
    "models = [(vecmap_en, vecmap_ru, 'Vecmap'),\n",
    "         (muse_s_en, muse_s_ru, 'MSE'),\n",
    "         (muse_u_en, muse_u_ru, 'MUE'),\n",
    "         (bi_cca_en, bi_cca_ru, 'BiCCA'),\n",
    "         (mft_en, mft_ru, 'MFT')]"
   ]
  },
  {
   "cell_type": "markdown",
   "metadata": {},
   "source": [
    "# Calculate intrinsic scores"
   ]
  },
  {
   "cell_type": "markdown",
   "metadata": {},
   "source": [
    "### Functions"
   ]
  },
  {
   "cell_type": "code",
   "execution_count": 17,
   "metadata": {
    "ExecuteTime": {
     "end_time": "2018-02-21T14:16:07.610518Z",
     "start_time": "2018-02-21T14:16:07.515282Z"
    },
    "collapsed": true
   },
   "outputs": [],
   "source": [
    "def get_word_vector(word, model, vector_size=300):\n",
    "    if len(word.split(' ')) == 1:\n",
    "        return model[word]\n",
    "    else:\n",
    "        vector = np.zeros(shape=model.vector_size)\n",
    "        for subword in word.split(' '):\n",
    "            vector = np.add(vector, model[subword])\n",
    "        return vector / len(word.split(' '))"
   ]
  },
  {
   "cell_type": "code",
   "execution_count": 18,
   "metadata": {
    "ExecuteTime": {
     "end_time": "2018-02-21T14:16:07.710408Z",
     "start_time": "2018-02-21T14:16:07.612384Z"
    },
    "collapsed": true
   },
   "outputs": [],
   "source": [
    "def calculate_cosines(dataset, src_embeddings, trg_embeddings, verbose=True):\n",
    "    dataset_len = len(dataset)\n",
    "    vector_sims = []\n",
    "    human_sims = []\n",
    "    for i, m in dataset.iterrows():\n",
    "        try:\n",
    "            vector_sims.append(1 - cosine(get_word_vector(m['word1'].lower(), src_embeddings),\n",
    "                                          get_word_vector(m['word2'].lower(), trg_embeddings)))\n",
    "            human_sims.append(m['similarity'])\n",
    "        except KeyError:\n",
    "            continue\n",
    "    if verbose:\n",
    "        print('Percent of dropped = {:2.1f}%, amount of remanining words = {}'.format((dataset_len - len(human_sims))/dataset_len*100, len(human_sims)))\n",
    "    return np.array(vector_sims), np.array(human_sims)"
   ]
  },
  {
   "cell_type": "markdown",
   "metadata": {},
   "source": [
    "### Result"
   ]
  },
  {
   "cell_type": "code",
   "execution_count": 19,
   "metadata": {
    "ExecuteTime": {
     "end_time": "2018-02-21T14:16:11.616665Z",
     "start_time": "2018-02-21T14:16:07.712228Z"
    }
   },
   "outputs": [
    {
     "name": "stdout",
     "output_type": "stream",
     "text": [
      "Percent of dropped = 1.3%, amount of remanining words = 3455\n",
      "SimVerb-3074: Correlation with Russian human judgements of English word2vec vectors: 0.23 (0.00)\n",
      "Percent of dropped = 0.3%, amount of remanining words = 2990\n",
      "MEN-1146: Correlation with Russian human judgements of English word2vec vectors: 0.69 (0.00)\n",
      "Percent of dropped = 5.1%, amount of remanining words = 1931\n",
      "RareWord-968: Correlation with Russian human judgements of English word2vec vectors: 0.43 (0.00)\n",
      "Percent of dropped = 0.5%, amount of remanining words = 994\n",
      "SimLex-739: Correlation with Russian human judgements of English word2vec vectors: 0.35 (0.00)\n",
      "Percent of dropped = 0.6%, amount of remanining words = 766\n",
      "MTurk-551: Correlation with Russian human judgements of English word2vec vectors: 0.57 (0.00)\n",
      "Percent of dropped = 3.8%, amount of remanining words = 481\n",
      "SemEval-243: Correlation with Russian human judgements of English word2vec vectors: 0.61 (0.00)\n",
      "Percent of dropped = 0.4%, amount of remanining words = 251\n",
      "WordRel-193: Correlation with Russian human judgements of English word2vec vectors: 0.57 (0.00)\n",
      "Percent of dropped = 1.0%, amount of remanining words = 201\n",
      "WordSim-193: Correlation with Russian human judgements of English word2vec vectors: 0.72 (0.00)\n",
      "Percent of dropped = 3.1%, amount of remanining words = 126\n",
      "Verb-115: Correlation with Russian human judgements of English word2vec vectors: 0.27 (0.00)\n",
      "Percent of dropped = 0.0%, amount of remanining words = 130\n",
      "YP-111: Correlation with Russian human judgements of English word2vec vectors: 0.25 (0.00)\n",
      "Percent of dropped = 3.1%, amount of remanining words = 63\n",
      "RG-54: Correlation with Russian human judgements of English word2vec vectors: 0.63 (0.00)\n",
      "Percent of dropped = 0.0%, amount of remanining words = 30\n",
      "MC-28: Correlation with Russian human judgements of English word2vec vectors: 0.71 (0.00)\n"
     ]
    }
   ],
   "source": [
    "for dataset, name in english_russian_word_similarity:\n",
    "    print('{}: Correlation with Russian human judgements of English word2vec vectors: {:0.2f} ({:0.2f})'.format(name ,*spearmanr(*calculate_cosines(read_csv(dataset), vecmap_en, vecmap_ru))))"
   ]
  },
  {
   "cell_type": "code",
   "execution_count": 20,
   "metadata": {
    "ExecuteTime": {
     "end_time": "2018-02-21T14:16:15.181138Z",
     "start_time": "2018-02-21T14:16:11.618745Z"
    }
   },
   "outputs": [
    {
     "name": "stdout",
     "output_type": "stream",
     "text": [
      "Percent of dropped = 12.2%, amount of remanining words = 3074\n",
      "SimVerb-3074: Correlation with Russian human judgements of English word2vec vectors: 0.20 (0.00)\n",
      "Percent of dropped = 4.3%, amount of remanining words = 2871\n",
      "MEN-1146: Correlation with Russian human judgements of English word2vec vectors: 0.68 (0.00)\n",
      "Percent of dropped = 43.7%, amount of remanining words = 1146\n",
      "RareWord-968: Correlation with Russian human judgements of English word2vec vectors: 0.44 (0.00)\n",
      "Percent of dropped = 4.1%, amount of remanining words = 958\n",
      "SimLex-739: Correlation with Russian human judgements of English word2vec vectors: 0.34 (0.00)\n",
      "Percent of dropped = 4.2%, amount of remanining words = 739\n",
      "MTurk-551: Correlation with Russian human judgements of English word2vec vectors: 0.56 (0.00)\n",
      "Percent of dropped = 12.0%, amount of remanining words = 440\n",
      "SemEval-243: Correlation with Russian human judgements of English word2vec vectors: 0.60 (0.00)\n",
      "Percent of dropped = 3.6%, amount of remanining words = 243\n",
      "WordRel-193: Correlation with Russian human judgements of English word2vec vectors: 0.55 (0.00)\n",
      "Percent of dropped = 4.9%, amount of remanining words = 193\n",
      "WordSim-193: Correlation with Russian human judgements of English word2vec vectors: 0.69 (0.00)\n",
      "Percent of dropped = 14.6%, amount of remanining words = 111\n",
      "Verb-115: Correlation with Russian human judgements of English word2vec vectors: 0.24 (0.01)\n",
      "Percent of dropped = 11.5%, amount of remanining words = 115\n",
      "YP-111: Correlation with Russian human judgements of English word2vec vectors: 0.22 (0.02)\n",
      "Percent of dropped = 16.9%, amount of remanining words = 54\n",
      "RG-54: Correlation with Russian human judgements of English word2vec vectors: 0.68 (0.00)\n",
      "Percent of dropped = 6.7%, amount of remanining words = 28\n",
      "MC-28: Correlation with Russian human judgements of English word2vec vectors: 0.67 (0.00)\n"
     ]
    }
   ],
   "source": [
    "for dataset, name in english_russian_word_similarity:\n",
    "    print('{}: Correlation with Russian human judgements of English word2vec vectors: {:0.2f} ({:0.2f})'.format(name ,*spearmanr(*calculate_cosines(read_csv(dataset), muse_s_en, muse_s_ru))))"
   ]
  },
  {
   "cell_type": "code",
   "execution_count": 21,
   "metadata": {
    "ExecuteTime": {
     "end_time": "2018-02-21T14:16:18.764841Z",
     "start_time": "2018-02-21T14:16:15.183162Z"
    }
   },
   "outputs": [
    {
     "name": "stdout",
     "output_type": "stream",
     "text": [
      "Percent of dropped = 12.2%, amount of remanining words = 3074\n",
      "SimVerb-3074: Correlation with Russian human judgements of English word2vec vectors: 0.20 (0.00)\n",
      "Percent of dropped = 4.3%, amount of remanining words = 2871\n",
      "MEN-1146: Correlation with Russian human judgements of English word2vec vectors: 0.66 (0.00)\n",
      "Percent of dropped = 43.7%, amount of remanining words = 1146\n",
      "RareWord-968: Correlation with Russian human judgements of English word2vec vectors: 0.42 (0.00)\n",
      "Percent of dropped = 4.1%, amount of remanining words = 958\n",
      "SimLex-739: Correlation with Russian human judgements of English word2vec vectors: 0.32 (0.00)\n",
      "Percent of dropped = 4.2%, amount of remanining words = 739\n",
      "MTurk-551: Correlation with Russian human judgements of English word2vec vectors: 0.51 (0.00)\n",
      "Percent of dropped = 12.0%, amount of remanining words = 440\n",
      "SemEval-243: Correlation with Russian human judgements of English word2vec vectors: 0.56 (0.00)\n",
      "Percent of dropped = 3.6%, amount of remanining words = 243\n",
      "WordRel-193: Correlation with Russian human judgements of English word2vec vectors: 0.53 (0.00)\n",
      "Percent of dropped = 4.9%, amount of remanining words = 193\n",
      "WordSim-193: Correlation with Russian human judgements of English word2vec vectors: 0.67 (0.00)\n",
      "Percent of dropped = 14.6%, amount of remanining words = 111\n",
      "Verb-115: Correlation with Russian human judgements of English word2vec vectors: 0.39 (0.00)\n",
      "Percent of dropped = 11.5%, amount of remanining words = 115\n",
      "YP-111: Correlation with Russian human judgements of English word2vec vectors: 0.37 (0.00)\n",
      "Percent of dropped = 16.9%, amount of remanining words = 54\n",
      "RG-54: Correlation with Russian human judgements of English word2vec vectors: 0.67 (0.00)\n",
      "Percent of dropped = 6.7%, amount of remanining words = 28\n",
      "MC-28: Correlation with Russian human judgements of English word2vec vectors: 0.70 (0.00)\n"
     ]
    }
   ],
   "source": [
    "for dataset, name in english_russian_word_similarity:\n",
    "    print('{}: Correlation with Russian human judgements of English word2vec vectors: {:0.2f} ({:0.2f})'.format(name ,*spearmanr(*calculate_cosines(read_csv(dataset), muse_u_en, muse_u_ru))))"
   ]
  },
  {
   "cell_type": "code",
   "execution_count": 22,
   "metadata": {
    "ExecuteTime": {
     "end_time": "2018-02-21T14:16:22.313248Z",
     "start_time": "2018-02-21T14:16:18.766909Z"
    }
   },
   "outputs": [
    {
     "name": "stdout",
     "output_type": "stream",
     "text": [
      "Percent of dropped = 1.3%, amount of remanining words = 3455\n",
      "SimVerb-3074: Correlation with Russian human judgements of English word2vec vectors: 0.22 (0.00)\n",
      "Percent of dropped = 0.3%, amount of remanining words = 2990\n",
      "MEN-1146: Correlation with Russian human judgements of English word2vec vectors: 0.66 (0.00)\n",
      "Percent of dropped = 5.1%, amount of remanining words = 1931\n",
      "RareWord-968: Correlation with Russian human judgements of English word2vec vectors: 0.43 (0.00)\n",
      "Percent of dropped = 0.5%, amount of remanining words = 994\n",
      "SimLex-739: Correlation with Russian human judgements of English word2vec vectors: 0.34 (0.00)\n",
      "Percent of dropped = 0.6%, amount of remanining words = 766\n",
      "MTurk-551: Correlation with Russian human judgements of English word2vec vectors: 0.54 (0.00)\n",
      "Percent of dropped = 3.8%, amount of remanining words = 481\n",
      "SemEval-243: Correlation with Russian human judgements of English word2vec vectors: 0.61 (0.00)\n",
      "Percent of dropped = 0.4%, amount of remanining words = 251\n",
      "WordRel-193: Correlation with Russian human judgements of English word2vec vectors: 0.53 (0.00)\n",
      "Percent of dropped = 1.0%, amount of remanining words = 201\n",
      "WordSim-193: Correlation with Russian human judgements of English word2vec vectors: 0.67 (0.00)\n",
      "Percent of dropped = 3.1%, amount of remanining words = 126\n",
      "Verb-115: Correlation with Russian human judgements of English word2vec vectors: 0.27 (0.00)\n",
      "Percent of dropped = 0.0%, amount of remanining words = 130\n",
      "YP-111: Correlation with Russian human judgements of English word2vec vectors: 0.25 (0.00)\n",
      "Percent of dropped = 3.1%, amount of remanining words = 63\n",
      "RG-54: Correlation with Russian human judgements of English word2vec vectors: 0.61 (0.00)\n",
      "Percent of dropped = 0.0%, amount of remanining words = 30\n",
      "MC-28: Correlation with Russian human judgements of English word2vec vectors: 0.72 (0.00)\n"
     ]
    }
   ],
   "source": [
    "for dataset, name in english_russian_word_similarity:\n",
    "    print('{}: Correlation with Russian human judgements of English word2vec vectors: {:0.2f} ({:0.2f})'.format(name ,*spearmanr(*calculate_cosines(read_csv(dataset), bi_cca_en, bi_cca_ru))))"
   ]
  },
  {
   "cell_type": "code",
   "execution_count": 23,
   "metadata": {
    "ExecuteTime": {
     "end_time": "2018-02-21T14:16:26.103543Z",
     "start_time": "2018-02-21T14:16:22.315623Z"
    }
   },
   "outputs": [
    {
     "name": "stdout",
     "output_type": "stream",
     "text": [
      "Percent of dropped = 1.3%, amount of remanining words = 3455\n",
      "SimVerb-3074: Correlation with Russian human judgements of English word2vec vectors: 0.21 (0.00)\n",
      "Percent of dropped = 0.3%, amount of remanining words = 2990\n",
      "MEN-1146: Correlation with Russian human judgements of English word2vec vectors: 0.68 (0.00)\n",
      "Percent of dropped = 5.1%, amount of remanining words = 1931\n",
      "RareWord-968: Correlation with Russian human judgements of English word2vec vectors: 0.43 (0.00)\n",
      "Percent of dropped = 0.5%, amount of remanining words = 994\n",
      "SimLex-739: Correlation with Russian human judgements of English word2vec vectors: 0.34 (0.00)\n",
      "Percent of dropped = 0.6%, amount of remanining words = 766\n",
      "MTurk-551: Correlation with Russian human judgements of English word2vec vectors: 0.57 (0.00)\n",
      "Percent of dropped = 3.8%, amount of remanining words = 481\n",
      "SemEval-243: Correlation with Russian human judgements of English word2vec vectors: 0.62 (0.00)\n",
      "Percent of dropped = 0.4%, amount of remanining words = 251\n",
      "WordRel-193: Correlation with Russian human judgements of English word2vec vectors: 0.55 (0.00)\n",
      "Percent of dropped = 1.0%, amount of remanining words = 201\n",
      "WordSim-193: Correlation with Russian human judgements of English word2vec vectors: 0.71 (0.00)\n",
      "Percent of dropped = 3.1%, amount of remanining words = 126\n",
      "Verb-115: Correlation with Russian human judgements of English word2vec vectors: 0.27 (0.00)\n",
      "Percent of dropped = 0.0%, amount of remanining words = 130\n",
      "YP-111: Correlation with Russian human judgements of English word2vec vectors: 0.25 (0.00)\n",
      "Percent of dropped = 3.1%, amount of remanining words = 63\n",
      "RG-54: Correlation with Russian human judgements of English word2vec vectors: 0.67 (0.00)\n",
      "Percent of dropped = 0.0%, amount of remanining words = 30\n",
      "MC-28: Correlation with Russian human judgements of English word2vec vectors: 0.70 (0.00)\n"
     ]
    }
   ],
   "source": [
    "for dataset, name in english_russian_word_similarity:\n",
    "    print('{}: Correlation with Russian human judgements of English word2vec vectors: {:0.2f} ({:0.2f})'.format(name ,*spearmanr(*calculate_cosines(read_csv(dataset), mft_en, mft_ru))))"
   ]
  },
  {
   "cell_type": "markdown",
   "metadata": {},
   "source": [
    "#### Joint table"
   ]
  },
  {
   "cell_type": "code",
   "execution_count": 24,
   "metadata": {
    "ExecuteTime": {
     "end_time": "2018-02-21T14:16:44.456670Z",
     "start_time": "2018-02-21T14:16:26.105601Z"
    }
   },
   "outputs": [
    {
     "data": {
      "text/html": [
       "<div>\n",
       "<style scoped>\n",
       "    .dataframe tbody tr th:only-of-type {\n",
       "        vertical-align: middle;\n",
       "    }\n",
       "\n",
       "    .dataframe tbody tr th {\n",
       "        vertical-align: top;\n",
       "    }\n",
       "\n",
       "    .dataframe thead th {\n",
       "        text-align: right;\n",
       "    }\n",
       "</style>\n",
       "<table border=\"1\" class=\"dataframe\">\n",
       "  <thead>\n",
       "    <tr style=\"text-align: right;\">\n",
       "      <th></th>\n",
       "      <th>SimVerb-3074</th>\n",
       "      <th>MEN-1146</th>\n",
       "      <th>RareWord-968</th>\n",
       "      <th>SimLex-739</th>\n",
       "      <th>MTurk-551</th>\n",
       "      <th>SemEval-243</th>\n",
       "      <th>WordRel-193</th>\n",
       "      <th>WordSim-193</th>\n",
       "      <th>Verb-115</th>\n",
       "      <th>YP-111</th>\n",
       "      <th>RG-54</th>\n",
       "      <th>MC-28</th>\n",
       "    </tr>\n",
       "  </thead>\n",
       "  <tbody>\n",
       "    <tr>\n",
       "      <th>BiCCA</th>\n",
       "      <td>0.218046</td>\n",
       "      <td>0.664030</td>\n",
       "      <td>0.425192</td>\n",
       "      <td>0.341557</td>\n",
       "      <td>0.535483</td>\n",
       "      <td>0.608564</td>\n",
       "      <td>0.529424</td>\n",
       "      <td>0.669920</td>\n",
       "      <td>0.265106</td>\n",
       "      <td>0.248969</td>\n",
       "      <td>0.611195</td>\n",
       "      <td>0.720961</td>\n",
       "    </tr>\n",
       "    <tr>\n",
       "      <th>MFT</th>\n",
       "      <td>0.211617</td>\n",
       "      <td>0.681587</td>\n",
       "      <td>0.430048</td>\n",
       "      <td>0.336201</td>\n",
       "      <td>0.567407</td>\n",
       "      <td>0.616561</td>\n",
       "      <td>0.552381</td>\n",
       "      <td>0.705907</td>\n",
       "      <td>0.269525</td>\n",
       "      <td>0.251166</td>\n",
       "      <td>0.674324</td>\n",
       "      <td>0.696039</td>\n",
       "    </tr>\n",
       "    <tr>\n",
       "      <th>MSE</th>\n",
       "      <td>0.200728</td>\n",
       "      <td>0.675030</td>\n",
       "      <td>0.435278</td>\n",
       "      <td>0.344031</td>\n",
       "      <td>0.555848</td>\n",
       "      <td>0.603852</td>\n",
       "      <td>0.549236</td>\n",
       "      <td>0.689278</td>\n",
       "      <td>0.237874</td>\n",
       "      <td>0.216590</td>\n",
       "      <td>0.679475</td>\n",
       "      <td>0.674514</td>\n",
       "    </tr>\n",
       "    <tr>\n",
       "      <th>MUE</th>\n",
       "      <td>0.199020</td>\n",
       "      <td>0.658349</td>\n",
       "      <td>0.419917</td>\n",
       "      <td>0.315084</td>\n",
       "      <td>0.510642</td>\n",
       "      <td>0.564960</td>\n",
       "      <td>0.527156</td>\n",
       "      <td>0.669226</td>\n",
       "      <td>0.388100</td>\n",
       "      <td>0.373077</td>\n",
       "      <td>0.667048</td>\n",
       "      <td>0.704626</td>\n",
       "    </tr>\n",
       "    <tr>\n",
       "      <th>Vecmap</th>\n",
       "      <td>0.226787</td>\n",
       "      <td>0.690194</td>\n",
       "      <td>0.428472</td>\n",
       "      <td>0.354032</td>\n",
       "      <td>0.570920</td>\n",
       "      <td>0.614034</td>\n",
       "      <td>0.569648</td>\n",
       "      <td>0.723163</td>\n",
       "      <td>0.272304</td>\n",
       "      <td>0.250610</td>\n",
       "      <td>0.631382</td>\n",
       "      <td>0.713618</td>\n",
       "    </tr>\n",
       "  </tbody>\n",
       "</table>\n",
       "</div>"
      ],
      "text/plain": [
       "        SimVerb-3074  MEN-1146  RareWord-968  SimLex-739  MTurk-551  \\\n",
       "BiCCA       0.218046  0.664030      0.425192    0.341557   0.535483   \n",
       "MFT         0.211617  0.681587      0.430048    0.336201   0.567407   \n",
       "MSE         0.200728  0.675030      0.435278    0.344031   0.555848   \n",
       "MUE         0.199020  0.658349      0.419917    0.315084   0.510642   \n",
       "Vecmap      0.226787  0.690194      0.428472    0.354032   0.570920   \n",
       "\n",
       "        SemEval-243  WordRel-193  WordSim-193  Verb-115    YP-111     RG-54  \\\n",
       "BiCCA      0.608564     0.529424     0.669920  0.265106  0.248969  0.611195   \n",
       "MFT        0.616561     0.552381     0.705907  0.269525  0.251166  0.674324   \n",
       "MSE        0.603852     0.549236     0.689278  0.237874  0.216590  0.679475   \n",
       "MUE        0.564960     0.527156     0.669226  0.388100  0.373077  0.667048   \n",
       "Vecmap     0.614034     0.569648     0.723163  0.272304  0.250610  0.631382   \n",
       "\n",
       "           MC-28  \n",
       "BiCCA   0.720961  \n",
       "MFT     0.696039  \n",
       "MSE     0.674514  \n",
       "MUE     0.704626  \n",
       "Vecmap  0.713618  "
      ]
     },
     "execution_count": 24,
     "metadata": {},
     "output_type": "execute_result"
    }
   ],
   "source": [
    "intrinsic_metrics = pandas.DataFrame({ model_name : [spearmanr(*calculate_cosines(read_csv(dataset),\n",
    "                                                                                  en_model,\n",
    "                                                                                  ru_model,\n",
    "                                                                                  verbose=False))[0]\n",
    "                                                     for dataset, _ in english_russian_word_similarity]\n",
    "                                      for en_model, ru_model, model_name in models},\n",
    "                                     index=[name for _, name in english_russian_word_similarity]).transpose()\n",
    "intrinsic_metrics"
   ]
  },
  {
   "cell_type": "code",
   "execution_count": 25,
   "metadata": {
    "ExecuteTime": {
     "end_time": "2018-02-21T14:16:44.889413Z",
     "start_time": "2018-02-21T14:16:44.458086Z"
    }
   },
   "outputs": [
    {
     "data": {
      "text/html": [
       "<div>\n",
       "<style scoped>\n",
       "    .dataframe tbody tr th:only-of-type {\n",
       "        vertical-align: middle;\n",
       "    }\n",
       "\n",
       "    .dataframe tbody tr th {\n",
       "        vertical-align: top;\n",
       "    }\n",
       "\n",
       "    .dataframe thead th {\n",
       "        text-align: right;\n",
       "    }\n",
       "</style>\n",
       "<table border=\"1\" class=\"dataframe\">\n",
       "  <thead>\n",
       "    <tr style=\"text-align: right;\">\n",
       "      <th></th>\n",
       "      <th>SimVerb-3074</th>\n",
       "      <th>MEN-1146</th>\n",
       "      <th>RareWord-968</th>\n",
       "      <th>SimLex-739</th>\n",
       "      <th>MTurk-551</th>\n",
       "      <th>SemEval-243</th>\n",
       "      <th>WordRel-193</th>\n",
       "      <th>WordSim-193</th>\n",
       "      <th>Verb-115</th>\n",
       "      <th>YP-111</th>\n",
       "      <th>RG-54</th>\n",
       "      <th>MC-28</th>\n",
       "    </tr>\n",
       "  </thead>\n",
       "  <tbody>\n",
       "    <tr>\n",
       "      <th>BiCCA</th>\n",
       "      <td>0.581498</td>\n",
       "      <td>-0.760620</td>\n",
       "      <td>-0.453656</td>\n",
       "      <td>0.233732</td>\n",
       "      <td>-0.501510</td>\n",
       "      <td>0.330913</td>\n",
       "      <td>-0.917210</td>\n",
       "      <td>-0.924999</td>\n",
       "      <td>-0.367849</td>\n",
       "      <td>-0.316022</td>\n",
       "      <td>-1.389277</td>\n",
       "      <td>1.057550</td>\n",
       "    </tr>\n",
       "    <tr>\n",
       "      <th>MFT</th>\n",
       "      <td>0.032267</td>\n",
       "      <td>0.600957</td>\n",
       "      <td>0.397068</td>\n",
       "      <td>-0.137127</td>\n",
       "      <td>0.771429</td>\n",
       "      <td>0.710596</td>\n",
       "      <td>0.387008</td>\n",
       "      <td>0.617614</td>\n",
       "      <td>-0.292151</td>\n",
       "      <td>-0.279702</td>\n",
       "      <td>0.724576</td>\n",
       "      <td>-0.328937</td>\n",
       "    </tr>\n",
       "    <tr>\n",
       "      <th>MSE</th>\n",
       "      <td>-0.898082</td>\n",
       "      <td>0.092441</td>\n",
       "      <td>1.313112</td>\n",
       "      <td>0.405102</td>\n",
       "      <td>0.310552</td>\n",
       "      <td>0.107188</td>\n",
       "      <td>0.208338</td>\n",
       "      <td>-0.095201</td>\n",
       "      <td>-0.834276</td>\n",
       "      <td>-0.851369</td>\n",
       "      <td>0.897082</td>\n",
       "      <td>-1.526436</td>\n",
       "    </tr>\n",
       "    <tr>\n",
       "      <th>MUE</th>\n",
       "      <td>-1.043980</td>\n",
       "      <td>-1.201197</td>\n",
       "      <td>-1.377543</td>\n",
       "      <td>-1.599298</td>\n",
       "      <td>-1.491999</td>\n",
       "      <td>-1.739318</td>\n",
       "      <td>-1.046079</td>\n",
       "      <td>-0.954741</td>\n",
       "      <td>1.738825</td>\n",
       "      <td>1.735976</td>\n",
       "      <td>0.480946</td>\n",
       "      <td>0.148792</td>\n",
       "    </tr>\n",
       "    <tr>\n",
       "      <th>Vecmap</th>\n",
       "      <td>1.328297</td>\n",
       "      <td>1.268420</td>\n",
       "      <td>0.121019</td>\n",
       "      <td>1.097590</td>\n",
       "      <td>0.911527</td>\n",
       "      <td>0.590621</td>\n",
       "      <td>1.367942</td>\n",
       "      <td>1.357327</td>\n",
       "      <td>-0.244549</td>\n",
       "      <td>-0.288884</td>\n",
       "      <td>-0.713326</td>\n",
       "      <td>0.649032</td>\n",
       "    </tr>\n",
       "  </tbody>\n",
       "</table>\n",
       "</div>"
      ],
      "text/plain": [
       "        SimVerb-3074  MEN-1146  RareWord-968  SimLex-739  MTurk-551  \\\n",
       "BiCCA       0.581498 -0.760620     -0.453656    0.233732  -0.501510   \n",
       "MFT         0.032267  0.600957      0.397068   -0.137127   0.771429   \n",
       "MSE        -0.898082  0.092441      1.313112    0.405102   0.310552   \n",
       "MUE        -1.043980 -1.201197     -1.377543   -1.599298  -1.491999   \n",
       "Vecmap      1.328297  1.268420      0.121019    1.097590   0.911527   \n",
       "\n",
       "        SemEval-243  WordRel-193  WordSim-193  Verb-115    YP-111     RG-54  \\\n",
       "BiCCA      0.330913    -0.917210    -0.924999 -0.367849 -0.316022 -1.389277   \n",
       "MFT        0.710596     0.387008     0.617614 -0.292151 -0.279702  0.724576   \n",
       "MSE        0.107188     0.208338    -0.095201 -0.834276 -0.851369  0.897082   \n",
       "MUE       -1.739318    -1.046079    -0.954741  1.738825  1.735976  0.480946   \n",
       "Vecmap     0.590621     1.367942     1.357327 -0.244549 -0.288884 -0.713326   \n",
       "\n",
       "           MC-28  \n",
       "BiCCA   1.057550  \n",
       "MFT    -0.328937  \n",
       "MSE    -1.526436  \n",
       "MUE     0.148792  \n",
       "Vecmap  0.649032  "
      ]
     },
     "execution_count": 25,
     "metadata": {},
     "output_type": "execute_result"
    }
   ],
   "source": [
    "intrinsic_metrics_norm = (intrinsic_metrics - intrinsic_metrics.mean(0)) / intrinsic_metrics.std(0)\n",
    "intrinsic_metrics_norm"
   ]
  },
  {
   "cell_type": "code",
   "execution_count": 26,
   "metadata": {
    "ExecuteTime": {
     "end_time": "2018-02-21T14:16:44.922141Z",
     "start_time": "2018-02-21T14:16:44.891629Z"
    }
   },
   "outputs": [
    {
     "data": {
      "text/html": [
       "<div>\n",
       "<style scoped>\n",
       "    .dataframe tbody tr th:only-of-type {\n",
       "        vertical-align: middle;\n",
       "    }\n",
       "\n",
       "    .dataframe tbody tr th {\n",
       "        vertical-align: top;\n",
       "    }\n",
       "\n",
       "    .dataframe thead th {\n",
       "        text-align: right;\n",
       "    }\n",
       "</style>\n",
       "<table border=\"1\" class=\"dataframe\">\n",
       "  <thead>\n",
       "    <tr style=\"text-align: right;\">\n",
       "      <th></th>\n",
       "      <th>SimVerb-3074</th>\n",
       "      <th>MEN-1146</th>\n",
       "      <th>RareWord-968</th>\n",
       "      <th>SimLex-739</th>\n",
       "      <th>MTurk-551</th>\n",
       "      <th>SemEval-243</th>\n",
       "      <th>WordRel-193</th>\n",
       "      <th>WordSim-193</th>\n",
       "      <th>Verb-115</th>\n",
       "      <th>YP-111</th>\n",
       "      <th>RG-54</th>\n",
       "      <th>MC-28</th>\n",
       "    </tr>\n",
       "  </thead>\n",
       "  <tbody>\n",
       "    <tr>\n",
       "      <th>BiCCA</th>\n",
       "      <td>4</td>\n",
       "      <td>4</td>\n",
       "      <td>4</td>\n",
       "      <td>4</td>\n",
       "      <td>4</td>\n",
       "      <td>4</td>\n",
       "      <td>4</td>\n",
       "      <td>4</td>\n",
       "      <td>3</td>\n",
       "      <td>3</td>\n",
       "      <td>1</td>\n",
       "      <td>3</td>\n",
       "    </tr>\n",
       "    <tr>\n",
       "      <th>MFT</th>\n",
       "      <td>3</td>\n",
       "      <td>1</td>\n",
       "      <td>1</td>\n",
       "      <td>2</td>\n",
       "      <td>1</td>\n",
       "      <td>3</td>\n",
       "      <td>1</td>\n",
       "      <td>1</td>\n",
       "      <td>1</td>\n",
       "      <td>1</td>\n",
       "      <td>5</td>\n",
       "      <td>2</td>\n",
       "    </tr>\n",
       "    <tr>\n",
       "      <th>MSE</th>\n",
       "      <td>2</td>\n",
       "      <td>3</td>\n",
       "      <td>5</td>\n",
       "      <td>1</td>\n",
       "      <td>3</td>\n",
       "      <td>1</td>\n",
       "      <td>3</td>\n",
       "      <td>3</td>\n",
       "      <td>2</td>\n",
       "      <td>5</td>\n",
       "      <td>4</td>\n",
       "      <td>4</td>\n",
       "    </tr>\n",
       "    <tr>\n",
       "      <th>MUE</th>\n",
       "      <td>1</td>\n",
       "      <td>2</td>\n",
       "      <td>2</td>\n",
       "      <td>3</td>\n",
       "      <td>2</td>\n",
       "      <td>5</td>\n",
       "      <td>2</td>\n",
       "      <td>2</td>\n",
       "      <td>5</td>\n",
       "      <td>2</td>\n",
       "      <td>2</td>\n",
       "      <td>5</td>\n",
       "    </tr>\n",
       "    <tr>\n",
       "      <th>Vecmap</th>\n",
       "      <td>5</td>\n",
       "      <td>5</td>\n",
       "      <td>3</td>\n",
       "      <td>5</td>\n",
       "      <td>5</td>\n",
       "      <td>2</td>\n",
       "      <td>5</td>\n",
       "      <td>5</td>\n",
       "      <td>4</td>\n",
       "      <td>4</td>\n",
       "      <td>3</td>\n",
       "      <td>1</td>\n",
       "    </tr>\n",
       "  </tbody>\n",
       "</table>\n",
       "</div>"
      ],
      "text/plain": [
       "        SimVerb-3074  MEN-1146  RareWord-968  SimLex-739  MTurk-551  \\\n",
       "BiCCA              4         4             4           4          4   \n",
       "MFT                3         1             1           2          1   \n",
       "MSE                2         3             5           1          3   \n",
       "MUE                1         2             2           3          2   \n",
       "Vecmap             5         5             3           5          5   \n",
       "\n",
       "        SemEval-243  WordRel-193  WordSim-193  Verb-115  YP-111  RG-54  MC-28  \n",
       "BiCCA             4            4            4         3       3      1      3  \n",
       "MFT               3            1            1         1       1      5      2  \n",
       "MSE               1            3            3         2       5      4      4  \n",
       "MUE               5            2            2         5       2      2      5  \n",
       "Vecmap            2            5            5         4       4      3      1  "
      ]
     },
     "execution_count": 26,
     "metadata": {},
     "output_type": "execute_result"
    }
   ],
   "source": [
    "intrinsic_metrics_order = intrinsic_metrics.apply(lambda s: s.argsort() + 1)\n",
    "intrinsic_metrics_order"
   ]
  },
  {
   "cell_type": "markdown",
   "metadata": {},
   "source": [
    "# Word translation"
   ]
  },
  {
   "cell_type": "code",
   "execution_count": 37,
   "metadata": {
    "collapsed": true
   },
   "outputs": [],
   "source": [
    "def evaluate_on_word_translation(model_en, model_ru, k=5):\n",
    "    count = 0\n",
    "\n",
    "    for src_word, trg_word in en_ru_dict.items():\n",
    "        similar_words = model_ru.similar_by_vector(model_en[src_word], k)\n",
    "        if trg_word in [word[0] for word in similar_words]:\n",
    "            count += 1\n",
    "    return count/len(en_ru_dict)"
   ]
  },
  {
   "cell_type": "code",
   "execution_count": 38,
   "metadata": {
    "collapsed": true
   },
   "outputs": [
    {
     "ename": "KeyboardInterrupt",
     "evalue": "",
     "output_type": "error",
     "traceback": [
      "\u001b[0;31m---------------------------------------------------------------------------\u001b[0m",
      "\u001b[0;31mKeyboardInterrupt\u001b[0m                         Traceback (most recent call last)",
      "\u001b[0;32m<ipython-input-38-277d8d0db5a4>\u001b[0m in \u001b[0;36m<module>\u001b[0;34m()\u001b[0m\n\u001b[1;32m      3\u001b[0m \u001b[0;32mfor\u001b[0m \u001b[0mmodel_en\u001b[0m\u001b[0;34m,\u001b[0m \u001b[0mmodel_ru\u001b[0m\u001b[0;34m,\u001b[0m \u001b[0mname\u001b[0m \u001b[0;32min\u001b[0m \u001b[0mmodels\u001b[0m\u001b[0;34m:\u001b[0m\u001b[0;34m\u001b[0m\u001b[0m\n\u001b[1;32m      4\u001b[0m     \u001b[0;32mfor\u001b[0m \u001b[0mk\u001b[0m \u001b[0;32min\u001b[0m \u001b[0;34m[\u001b[0m\u001b[0;36m1\u001b[0m\u001b[0;34m,\u001b[0m \u001b[0;36m5\u001b[0m\u001b[0;34m,\u001b[0m \u001b[0;36m10\u001b[0m\u001b[0;34m]\u001b[0m\u001b[0;34m:\u001b[0m\u001b[0;34m\u001b[0m\u001b[0m\n\u001b[0;32m----> 5\u001b[0;31m         \u001b[0mresults\u001b[0m\u001b[0;34m.\u001b[0m\u001b[0mappend\u001b[0m\u001b[0;34m(\u001b[0m\u001b[0;34m'{} p@{}: {}'\u001b[0m\u001b[0;34m.\u001b[0m\u001b[0mformat\u001b[0m\u001b[0;34m(\u001b[0m\u001b[0mname\u001b[0m\u001b[0;34m,\u001b[0m \u001b[0mk\u001b[0m\u001b[0;34m,\u001b[0m \u001b[0mevaluate_on_word_translation\u001b[0m\u001b[0;34m(\u001b[0m\u001b[0mmodel_en\u001b[0m\u001b[0;34m,\u001b[0m \u001b[0mmodel_ru\u001b[0m\u001b[0;34m,\u001b[0m \u001b[0mk\u001b[0m\u001b[0;34m)\u001b[0m\u001b[0;34m)\u001b[0m\u001b[0;34m)\u001b[0m\u001b[0;34m\u001b[0m\u001b[0m\n\u001b[0m",
      "\u001b[0;32m<ipython-input-37-182e9a88d0a4>\u001b[0m in \u001b[0;36mevaluate_on_word_translation\u001b[0;34m(model_en, model_ru, k)\u001b[0m\n\u001b[1;32m      3\u001b[0m \u001b[0;34m\u001b[0m\u001b[0m\n\u001b[1;32m      4\u001b[0m     \u001b[0;32mfor\u001b[0m \u001b[0msrc_word\u001b[0m\u001b[0;34m,\u001b[0m \u001b[0mtrg_word\u001b[0m \u001b[0;32min\u001b[0m \u001b[0men_ru_dict\u001b[0m\u001b[0;34m.\u001b[0m\u001b[0mitems\u001b[0m\u001b[0;34m(\u001b[0m\u001b[0;34m)\u001b[0m\u001b[0;34m:\u001b[0m\u001b[0;34m\u001b[0m\u001b[0m\n\u001b[0;32m----> 5\u001b[0;31m         \u001b[0msimilar_words\u001b[0m \u001b[0;34m=\u001b[0m \u001b[0mmodel_ru\u001b[0m\u001b[0;34m.\u001b[0m\u001b[0msimilar_by_vector\u001b[0m\u001b[0;34m(\u001b[0m\u001b[0mmodel_en\u001b[0m\u001b[0;34m[\u001b[0m\u001b[0msrc_word\u001b[0m\u001b[0;34m]\u001b[0m\u001b[0;34m,\u001b[0m \u001b[0mk\u001b[0m\u001b[0;34m)\u001b[0m\u001b[0;34m\u001b[0m\u001b[0m\n\u001b[0m\u001b[1;32m      6\u001b[0m         \u001b[0;32mif\u001b[0m \u001b[0mtrg_word\u001b[0m \u001b[0;32min\u001b[0m \u001b[0;34m[\u001b[0m\u001b[0mword\u001b[0m\u001b[0;34m[\u001b[0m\u001b[0;36m0\u001b[0m\u001b[0;34m]\u001b[0m \u001b[0;32mfor\u001b[0m \u001b[0mword\u001b[0m \u001b[0;32min\u001b[0m \u001b[0msimilar_words\u001b[0m\u001b[0;34m]\u001b[0m\u001b[0;34m:\u001b[0m\u001b[0;34m\u001b[0m\u001b[0m\n\u001b[1;32m      7\u001b[0m             \u001b[0mcount\u001b[0m \u001b[0;34m+=\u001b[0m \u001b[0;36m1\u001b[0m\u001b[0;34m\u001b[0m\u001b[0m\n",
      "\u001b[0;32m~/.pyenv/versions/3.6.0/lib/python3.6/site-packages/gensim/models/keyedvectors.py\u001b[0m in \u001b[0;36msimilar_by_vector\u001b[0;34m(self, vector, topn, restrict_vocab)\u001b[0m\n\u001b[1;32m    558\u001b[0m \u001b[0;34m\u001b[0m\u001b[0m\n\u001b[1;32m    559\u001b[0m         \"\"\"\n\u001b[0;32m--> 560\u001b[0;31m         \u001b[0;32mreturn\u001b[0m \u001b[0mself\u001b[0m\u001b[0;34m.\u001b[0m\u001b[0mmost_similar\u001b[0m\u001b[0;34m(\u001b[0m\u001b[0mpositive\u001b[0m\u001b[0;34m=\u001b[0m\u001b[0;34m[\u001b[0m\u001b[0mvector\u001b[0m\u001b[0;34m]\u001b[0m\u001b[0;34m,\u001b[0m \u001b[0mtopn\u001b[0m\u001b[0;34m=\u001b[0m\u001b[0mtopn\u001b[0m\u001b[0;34m,\u001b[0m \u001b[0mrestrict_vocab\u001b[0m\u001b[0;34m=\u001b[0m\u001b[0mrestrict_vocab\u001b[0m\u001b[0;34m)\u001b[0m\u001b[0;34m\u001b[0m\u001b[0m\n\u001b[0m\u001b[1;32m    561\u001b[0m \u001b[0;34m\u001b[0m\u001b[0m\n\u001b[1;32m    562\u001b[0m     \u001b[0;32mdef\u001b[0m \u001b[0mwmdistance\u001b[0m\u001b[0;34m(\u001b[0m\u001b[0mself\u001b[0m\u001b[0;34m,\u001b[0m \u001b[0mdocument1\u001b[0m\u001b[0;34m,\u001b[0m \u001b[0mdocument2\u001b[0m\u001b[0;34m)\u001b[0m\u001b[0;34m:\u001b[0m\u001b[0;34m\u001b[0m\u001b[0m\n",
      "\u001b[0;32m~/.pyenv/versions/3.6.0/lib/python3.6/site-packages/gensim/models/keyedvectors.py\u001b[0m in \u001b[0;36mmost_similar\u001b[0;34m(self, positive, negative, topn, restrict_vocab, indexer)\u001b[0m\n\u001b[1;32m    514\u001b[0m \u001b[0;34m\u001b[0m\u001b[0m\n\u001b[1;32m    515\u001b[0m         \u001b[0mlimited\u001b[0m \u001b[0;34m=\u001b[0m \u001b[0mself\u001b[0m\u001b[0;34m.\u001b[0m\u001b[0msyn0norm\u001b[0m \u001b[0;32mif\u001b[0m \u001b[0mrestrict_vocab\u001b[0m \u001b[0;32mis\u001b[0m \u001b[0;32mNone\u001b[0m \u001b[0;32melse\u001b[0m \u001b[0mself\u001b[0m\u001b[0;34m.\u001b[0m\u001b[0msyn0norm\u001b[0m\u001b[0;34m[\u001b[0m\u001b[0;34m:\u001b[0m\u001b[0mrestrict_vocab\u001b[0m\u001b[0;34m]\u001b[0m\u001b[0;34m\u001b[0m\u001b[0m\n\u001b[0;32m--> 516\u001b[0;31m         \u001b[0mdists\u001b[0m \u001b[0;34m=\u001b[0m \u001b[0mdot\u001b[0m\u001b[0;34m(\u001b[0m\u001b[0mlimited\u001b[0m\u001b[0;34m,\u001b[0m \u001b[0mmean\u001b[0m\u001b[0;34m)\u001b[0m\u001b[0;34m\u001b[0m\u001b[0m\n\u001b[0m\u001b[1;32m    517\u001b[0m         \u001b[0;32mif\u001b[0m \u001b[0;32mnot\u001b[0m \u001b[0mtopn\u001b[0m\u001b[0;34m:\u001b[0m\u001b[0;34m\u001b[0m\u001b[0m\n\u001b[1;32m    518\u001b[0m             \u001b[0;32mreturn\u001b[0m \u001b[0mdists\u001b[0m\u001b[0;34m\u001b[0m\u001b[0m\n",
      "\u001b[0;31mKeyboardInterrupt\u001b[0m: "
     ]
    }
   ],
   "source": [
    "results = []\n",
    "\n",
    "for model_en, model_ru, name in models:\n",
    "    for k in [1, 5, 10]:\n",
    "        results.append('{} p@{}: {}'.format(name, k, evaluate_on_word_translation(model_en, model_ru, k)))"
   ]
  },
  {
   "cell_type": "code",
   "execution_count": 162,
   "metadata": {
    "ExecuteTime": {
     "end_time": "2018-02-22T10:47:38.687775Z",
     "start_time": "2018-02-22T10:47:38.675023Z"
    }
   },
   "outputs": [
    {
     "data": {
      "text/html": [
       "<div>\n",
       "<style scoped>\n",
       "    .dataframe tbody tr th:only-of-type {\n",
       "        vertical-align: middle;\n",
       "    }\n",
       "\n",
       "    .dataframe tbody tr th {\n",
       "        vertical-align: top;\n",
       "    }\n",
       "\n",
       "    .dataframe thead th {\n",
       "        text-align: right;\n",
       "    }\n",
       "</style>\n",
       "<table border=\"1\" class=\"dataframe\">\n",
       "  <thead>\n",
       "    <tr style=\"text-align: right;\">\n",
       "      <th></th>\n",
       "      <th>WT p@1</th>\n",
       "      <th>WT p@10</th>\n",
       "      <th>WT p@5</th>\n",
       "    </tr>\n",
       "  </thead>\n",
       "  <tbody>\n",
       "    <tr>\n",
       "      <th>Vecmap</th>\n",
       "      <td>0.32</td>\n",
       "      <td>0.59</td>\n",
       "      <td>0.52</td>\n",
       "    </tr>\n",
       "    <tr>\n",
       "      <th>MSE</th>\n",
       "      <td>0.31</td>\n",
       "      <td>0.61</td>\n",
       "      <td>0.54</td>\n",
       "    </tr>\n",
       "    <tr>\n",
       "      <th>MUE</th>\n",
       "      <td>0.17</td>\n",
       "      <td>0.46</td>\n",
       "      <td>0.35</td>\n",
       "    </tr>\n",
       "    <tr>\n",
       "      <th>BiCCA</th>\n",
       "      <td>0.29</td>\n",
       "      <td>0.56</td>\n",
       "      <td>0.49</td>\n",
       "    </tr>\n",
       "    <tr>\n",
       "      <th>MFT</th>\n",
       "      <td>0.21</td>\n",
       "      <td>0.45</td>\n",
       "      <td>0.38</td>\n",
       "    </tr>\n",
       "  </tbody>\n",
       "</table>\n",
       "</div>"
      ],
      "text/plain": [
       "        WT p@1  WT p@10  WT p@5\n",
       "Vecmap    0.32     0.59    0.52\n",
       "MSE       0.31     0.61    0.54\n",
       "MUE       0.17     0.46    0.35\n",
       "BiCCA     0.29     0.56    0.49\n",
       "MFT       0.21     0.45    0.38"
      ]
     },
     "execution_count": 162,
     "metadata": {},
     "output_type": "execute_result"
    }
   ],
   "source": [
    "word_translation_metrics = pandas.DataFrame({'WT p@1' :  [0.32, 0.31, 0.17, 0.29, 0.21],\n",
    "                                             'WT p@5' :  [0.52, 0.54, 0.35, 0.49, 0.38],\n",
    "                                             'WT p@10' : [0.59, 0.61, 0.46, 0.56, 0.45],},\n",
    "                                            index=['Vecmap', 'MSE', 'MUE', 'BiCCA', 'MFT'])\n",
    "word_translation_metrics"
   ]
  },
  {
   "cell_type": "markdown",
   "metadata": {},
   "source": [
    "['Vecmap p@1: 0.32002815909890886',\n",
    " 'Vecmap p@5: 0.5231725918103954',\n",
    " 'Vecmap p@10: 0.5899800539716062',\n",
    " 'MSE p@1: 0.3146779303062302',\n",
    " 'MSE p@5: 0.5372990730963276',\n",
    " 'MSE p@10: 0.6117798897101959',\n",
    " 'MUE p@1: 0.16843834330634752',\n",
    " 'MUE p@5: 0.34640384841018423',\n",
    " 'MUE p@10: 0.42592983691188546',\n",
    " 'BiCCA p@1: 0.2930658218936994',\n",
    " 'BiCCA p@5: 0.49097735539129417',\n",
    " 'BiCCA p@10: 0.5556728851343423']"
   ]
  },
  {
   "cell_type": "markdown",
   "metadata": {},
   "source": [
    "# Calculate extrinsic scores"
   ]
  },
  {
   "cell_type": "markdown",
   "metadata": {},
   "source": [
    "### Functions"
   ]
  },
  {
   "cell_type": "code",
   "execution_count": 163,
   "metadata": {
    "ExecuteTime": {
     "end_time": "2018-02-22T10:47:47.541779Z",
     "start_time": "2018-02-22T10:47:46.802958Z"
    },
    "collapsed": true
   },
   "outputs": [],
   "source": [
    "def get_feature_vec_simple(tokens, num_features, model):\n",
    "    result = np.zeros(shape=(num_features), dtype='float32')\n",
    "    norm = 0\n",
    "    for word in tokens:\n",
    "        if word in model.wv.vocab:\n",
    "            result += model[word]\n",
    "            norm += 1\n",
    "    if norm > 0:\n",
    "        result /= norm\n",
    "    return result\n",
    "\n",
    "\n",
    "def get_feature_vec(tokens, num_features, model):\n",
    "    token_idx = [model.vocab[w].index for w in tokens if w in model.wv.vocab]\n",
    "    if len(token_idx) > 0:\n",
    "        return np.mean(model.syn0[token_idx], axis=0)\n",
    "    else:\n",
    "        return np.zeros(num_features, dtype='float32')\n",
    "\n",
    "\n",
    "def get_vectors(model_en, model_ru, dataset):\n",
    "    eng_vectors = []\n",
    "    rus_vectors = []\n",
    "    common_vectors = []\n",
    "    \n",
    "    for i in dataset.index:\n",
    "        eng_vec = get_feature_vec([word.lower() for word in alpha_tokenizer.tokenize(dataset.loc[i, 'sentence1'])], \n",
    "                                   model_en.vector_size, model_en)\n",
    "        eng_vectors.append(eng_vec)\n",
    "        rus_vec = get_feature_vec([word.lower() for word in alpha_tokenizer.tokenize(dataset.loc[i, 'sentence2'])],\n",
    "                                   model_ru.vector_size, model_ru)\n",
    "        rus_vectors.append(rus_vec)\n",
    "        common_vectors.append(np.hstack((eng_vec, rus_vec)))\n",
    "#     eng_vectors = np.array(eng_vectors)\n",
    "#     rus_vectors = np.array(rus_vectors)\n",
    "    return np.array(eng_vectors), np.array(rus_vectors), np.array(common_vectors)\n",
    "\n",
    "\n",
    "METRICS = (\n",
    "    ('f1', f1_score),\n",
    "    ('p', precision_score),\n",
    "    ('r', recall_score),\n",
    ")\n",
    "\n",
    "def evaluate_extrinsic(embeddings1, embeddings2, classifier_ctor, splits, metrics=METRICS, float_target=True):\n",
    "    result = []\n",
    "    for train_data, test_data in splits:\n",
    "        _, _, X_train  = get_vectors(embeddings1, embeddings2, train_data)\n",
    "        _, _, X_test  = get_vectors(embeddings1, embeddings2, test_data)\n",
    "        Y_train = train_data.is_paraphrase.values\n",
    "        Y_test = test_data.is_paraphrase.values\n",
    "        if float_target:\n",
    "            Y_train = Y_train.astype('float32')\n",
    "            Y_test = Y_test.astype('float32')\n",
    "\n",
    "        clf = classifier_ctor()\n",
    "        \n",
    "        clf.fit(X_train, Y_train)\n",
    "        pred = np.where(clf.predict_proba(X_test) > 0.5, 1, 0)\n",
    "        if pred.shape[1] > 1:\n",
    "            pred = pred[:, 1]\n",
    "\n",
    "        result.append({ metric_name : metric_func(pred, Y_test)\n",
    "                       for metric_name, metric_func in metrics})\n",
    "    return pandas.DataFrame(result).describe().loc[['mean', 'std']]\n",
    "\n",
    "\n",
    "def vectors2cosine(vecs):\n",
    "    dims = vecs.shape[1] // 2\n",
    "    result = np.array([cosine(vecs[i, :dims], vecs[i, dims:]) for i in range(vecs.shape[0])])\n",
    "    result[np.isnan(result)] = 1.0\n",
    "    return np.expand_dims(result, 1)\n",
    "\n",
    "\n",
    "def make_cosine_logreg_ctor(vector_size):\n",
    "    def _f():\n",
    "        return Pipeline((('cos', FunctionTransformer(vectors2cosine)),\n",
    "                         ('clf', LogisticRegressionCV())))\n",
    "    return _f\n",
    "\n",
    "\n",
    "class BilinearModel(nn.Module):\n",
    "    def __init__(self, vector_size):\n",
    "        super(BilinearModel, self).__init__()\n",
    "        self.vector_size = vector_size\n",
    "        self.compare = nn.Bilinear(self.vector_size, self.vector_size, 1)\n",
    "\n",
    "    def forward(self, x):\n",
    "        \"\"\"x.size = (Batch, Dim)\"\"\"\n",
    "        a = x[:, :self.vector_size].float()\n",
    "        b = x[:, self.vector_size:].float()\n",
    "        return F.sigmoid(self.compare(a, b))\n",
    "\n",
    "\n",
    "def make_bilinear_model_ctor(vector_size):\n",
    "    def _f():\n",
    "        return skorch.NeuralNet(BilinearModel,\n",
    "                                module__vector_size=vector_size,\n",
    "                                optimizer=torch.optim.Adam,\n",
    "                                lr=0.1,\n",
    "                                criterion=nn.BCELoss,\n",
    "                                max_epochs=100,\n",
    "                                verbose=0)\n",
    "    return _f\n",
    "\n",
    "\n",
    "class ProjCosineModel(nn.Module):\n",
    "    def __init__(self, vector_size, proj_size=100, proj_act=lambda x: x):\n",
    "        super(ProjCosineModel, self).__init__()\n",
    "        self.vector_size = vector_size\n",
    "        self.proj = nn.Linear(vector_size, proj_size)\n",
    "        self.proj_act = proj_act\n",
    "        self.out = nn.Linear(1, 1)\n",
    "\n",
    "    def forward(self, x):\n",
    "        \"\"\"x.size = (Batch, Dim)\"\"\"\n",
    "        a = x[:, :self.vector_size].float()\n",
    "        b = x[:, self.vector_size:].float()\n",
    "        ap = self.proj_act(self.proj(a))\n",
    "        bp = self.proj_act(self.proj(b))\n",
    "        return F.sigmoid(self.out(F.cosine_similarity(ap, bp).unsqueeze(-1)))\n",
    "\n",
    "\n",
    "def make_proj_cosine_model_ctor(vector_size):\n",
    "    def _f():\n",
    "        return skorch.NeuralNet(ProjCosineModel,\n",
    "                                module__vector_size=vector_size,\n",
    "                                optimizer=torch.optim.Adam,\n",
    "                                lr=0.1,\n",
    "                                criterion=nn.BCELoss,\n",
    "                                max_epochs=100,\n",
    "                                verbose=0)\n",
    "    return _f\n",
    "\n",
    "\n",
    "PAIR_CLASSIFIERS = (\n",
    "    ('cos lr', make_cosine_logreg_ctor),\n",
    "#     ('bilinear', make_bilinear_model_ctor),\n",
    "#     ('proj cos', make_proj_cosine_model_ctor),\n",
    ")"
   ]
  },
  {
   "cell_type": "code",
   "execution_count": 87,
   "metadata": {
    "ExecuteTime": {
     "end_time": "2018-02-22T06:49:18.130916Z",
     "start_time": "2018-02-22T06:49:18.105807Z"
    },
    "collapsed": true
   },
   "outputs": [],
   "source": [
    "# %prun -s cumulative evaluate_extrinsic(bi_cca_en, bi_cca_ru, make_cosine_logreg_ctor(bi_cca_en.vector_size), yandex_train_test_data[:1])\n",
    "# %lprun -f get_vectors evaluate_extrinsic(bi_cca_en, bi_cca_ru, make_cosine_logreg_ctor(bi_cca_en.vector_size), strict_train_test_data)"
   ]
  },
  {
   "cell_type": "markdown",
   "metadata": {},
   "source": [
    "### Results"
   ]
  },
  {
   "cell_type": "code",
   "execution_count": 88,
   "metadata": {
    "ExecuteTime": {
     "end_time": "2018-02-22T09:56:05.880399Z",
     "start_time": "2018-02-22T06:49:34.332522Z"
    }
   },
   "outputs": [
    {
     "name": "stdout",
     "output_type": "stream",
     "text": [
      "(datetime.datetime(2018, 2, 22, 6, 49, 34, 349588), 'Vecmap', 'cos lr', 'para strict')\n",
      "(datetime.datetime(2018, 2, 22, 6, 49, 44, 53490), 'Vecmap', 'cos lr', 'yandex wmt')\n"
     ]
    },
    {
     "name": "stderr",
     "output_type": "stream",
     "text": [
      "/root/.pyenv/versions/3.6.0/lib/python3.6/site-packages/scipy/spatial/distance.py:644: RuntimeWarning: invalid value encountered in float_scalars\n",
      "  dist = 1.0 - uv / np.sqrt(uu * vv)\n",
      "/root/.pyenv/versions/3.6.0/lib/python3.6/site-packages/scipy/spatial/distance.py:644: RuntimeWarning: invalid value encountered in float_scalars\n",
      "  dist = 1.0 - uv / np.sqrt(uu * vv)\n",
      "/root/.pyenv/versions/3.6.0/lib/python3.6/site-packages/scipy/spatial/distance.py:644: RuntimeWarning: invalid value encountered in float_scalars\n",
      "  dist = 1.0 - uv / np.sqrt(uu * vv)\n"
     ]
    },
    {
     "name": "stdout",
     "output_type": "stream",
     "text": [
      "(datetime.datetime(2018, 2, 22, 7, 25, 49, 44497), 'MSE', 'cos lr', 'para strict')\n",
      "(datetime.datetime(2018, 2, 22, 7, 26, 17, 180220), 'MSE', 'cos lr', 'yandex wmt')\n"
     ]
    },
    {
     "name": "stderr",
     "output_type": "stream",
     "text": [
      "/root/.pyenv/versions/3.6.0/lib/python3.6/site-packages/scipy/spatial/distance.py:644: RuntimeWarning: invalid value encountered in float_scalars\n",
      "  dist = 1.0 - uv / np.sqrt(uu * vv)\n",
      "/root/.pyenv/versions/3.6.0/lib/python3.6/site-packages/scipy/spatial/distance.py:644: RuntimeWarning: invalid value encountered in float_scalars\n",
      "  dist = 1.0 - uv / np.sqrt(uu * vv)\n",
      "/root/.pyenv/versions/3.6.0/lib/python3.6/site-packages/scipy/spatial/distance.py:644: RuntimeWarning: invalid value encountered in float_scalars\n",
      "  dist = 1.0 - uv / np.sqrt(uu * vv)\n"
     ]
    },
    {
     "name": "stdout",
     "output_type": "stream",
     "text": [
      "(datetime.datetime(2018, 2, 22, 8, 0, 57, 679144), 'MUE', 'cos lr', 'para strict')\n",
      "(datetime.datetime(2018, 2, 22, 8, 1, 25, 491739), 'MUE', 'cos lr', 'yandex wmt')\n"
     ]
    },
    {
     "name": "stderr",
     "output_type": "stream",
     "text": [
      "/root/.pyenv/versions/3.6.0/lib/python3.6/site-packages/scipy/spatial/distance.py:644: RuntimeWarning: invalid value encountered in float_scalars\n",
      "  dist = 1.0 - uv / np.sqrt(uu * vv)\n",
      "/root/.pyenv/versions/3.6.0/lib/python3.6/site-packages/scipy/spatial/distance.py:644: RuntimeWarning: invalid value encountered in float_scalars\n",
      "  dist = 1.0 - uv / np.sqrt(uu * vv)\n",
      "/root/.pyenv/versions/3.6.0/lib/python3.6/site-packages/scipy/spatial/distance.py:644: RuntimeWarning: invalid value encountered in float_scalars\n",
      "  dist = 1.0 - uv / np.sqrt(uu * vv)\n"
     ]
    },
    {
     "name": "stdout",
     "output_type": "stream",
     "text": [
      "(datetime.datetime(2018, 2, 22, 8, 36, 6, 942882), 'BiCCA', 'cos lr', 'para strict')\n",
      "(datetime.datetime(2018, 2, 22, 8, 37, 52, 996348), 'BiCCA', 'cos lr', 'yandex wmt')\n"
     ]
    },
    {
     "name": "stderr",
     "output_type": "stream",
     "text": [
      "/root/.pyenv/versions/3.6.0/lib/python3.6/site-packages/scipy/spatial/distance.py:644: RuntimeWarning: invalid value encountered in float_scalars\n",
      "  dist = 1.0 - uv / np.sqrt(uu * vv)\n",
      "/root/.pyenv/versions/3.6.0/lib/python3.6/site-packages/scipy/spatial/distance.py:644: RuntimeWarning: invalid value encountered in float_scalars\n",
      "  dist = 1.0 - uv / np.sqrt(uu * vv)\n",
      "/root/.pyenv/versions/3.6.0/lib/python3.6/site-packages/scipy/spatial/distance.py:644: RuntimeWarning: invalid value encountered in float_scalars\n",
      "  dist = 1.0 - uv / np.sqrt(uu * vv)\n"
     ]
    },
    {
     "name": "stdout",
     "output_type": "stream",
     "text": [
      "(datetime.datetime(2018, 2, 22, 9, 16, 10, 635867), 'MFT', 'cos lr', 'para strict')\n",
      "(datetime.datetime(2018, 2, 22, 9, 17, 1, 277186), 'MFT', 'cos lr', 'yandex wmt')\n"
     ]
    },
    {
     "name": "stderr",
     "output_type": "stream",
     "text": [
      "/root/.pyenv/versions/3.6.0/lib/python3.6/site-packages/scipy/spatial/distance.py:644: RuntimeWarning: invalid value encountered in float_scalars\n",
      "  dist = 1.0 - uv / np.sqrt(uu * vv)\n",
      "/root/.pyenv/versions/3.6.0/lib/python3.6/site-packages/scipy/spatial/distance.py:644: RuntimeWarning: invalid value encountered in float_scalars\n",
      "  dist = 1.0 - uv / np.sqrt(uu * vv)\n",
      "/root/.pyenv/versions/3.6.0/lib/python3.6/site-packages/scipy/spatial/distance.py:644: RuntimeWarning: invalid value encountered in float_scalars\n",
      "  dist = 1.0 - uv / np.sqrt(uu * vv)\n"
     ]
    },
    {
     "data": {
      "text/html": [
       "<div>\n",
       "<style scoped>\n",
       "    .dataframe tbody tr th:only-of-type {\n",
       "        vertical-align: middle;\n",
       "    }\n",
       "\n",
       "    .dataframe tbody tr th {\n",
       "        vertical-align: top;\n",
       "    }\n",
       "\n",
       "    .dataframe thead tr th {\n",
       "        text-align: left;\n",
       "    }\n",
       "</style>\n",
       "<table border=\"1\" class=\"dataframe\">\n",
       "  <thead>\n",
       "    <tr>\n",
       "      <th></th>\n",
       "      <th></th>\n",
       "      <th>para strict</th>\n",
       "      <th>yandex wmt</th>\n",
       "      <th>para strict</th>\n",
       "      <th>yandex wmt</th>\n",
       "      <th>para strict</th>\n",
       "      <th>yandex wmt</th>\n",
       "      <th>para strict</th>\n",
       "      <th>yandex wmt</th>\n",
       "      <th>para strict</th>\n",
       "      <th>yandex wmt</th>\n",
       "      <th>para strict</th>\n",
       "      <th>yandex wmt</th>\n",
       "    </tr>\n",
       "    <tr>\n",
       "      <th></th>\n",
       "      <th></th>\n",
       "      <th>f1</th>\n",
       "      <th>f1</th>\n",
       "      <th>f1</th>\n",
       "      <th>f1</th>\n",
       "      <th>p</th>\n",
       "      <th>p</th>\n",
       "      <th>p</th>\n",
       "      <th>p</th>\n",
       "      <th>r</th>\n",
       "      <th>r</th>\n",
       "      <th>r</th>\n",
       "      <th>r</th>\n",
       "    </tr>\n",
       "    <tr>\n",
       "      <th></th>\n",
       "      <th></th>\n",
       "      <th>mean</th>\n",
       "      <th>mean</th>\n",
       "      <th>std</th>\n",
       "      <th>std</th>\n",
       "      <th>mean</th>\n",
       "      <th>mean</th>\n",
       "      <th>std</th>\n",
       "      <th>std</th>\n",
       "      <th>mean</th>\n",
       "      <th>mean</th>\n",
       "      <th>std</th>\n",
       "      <th>std</th>\n",
       "    </tr>\n",
       "  </thead>\n",
       "  <tbody>\n",
       "    <tr>\n",
       "      <th>BiCCA</th>\n",
       "      <th>cos lr</th>\n",
       "      <td>0.827839</td>\n",
       "      <td>0.596666</td>\n",
       "      <td>0.015713</td>\n",
       "      <td>0.002568</td>\n",
       "      <td>0.839732</td>\n",
       "      <td>0.633775</td>\n",
       "      <td>0.030854</td>\n",
       "      <td>0.010060</td>\n",
       "      <td>0.816629</td>\n",
       "      <td>0.563749</td>\n",
       "      <td>0.004983</td>\n",
       "      <td>0.003604</td>\n",
       "    </tr>\n",
       "    <tr>\n",
       "      <th>MFT</th>\n",
       "      <th>cos lr</th>\n",
       "      <td>0.857646</td>\n",
       "      <td>0.591429</td>\n",
       "      <td>0.012919</td>\n",
       "      <td>0.003073</td>\n",
       "      <td>0.868360</td>\n",
       "      <td>0.637347</td>\n",
       "      <td>0.016867</td>\n",
       "      <td>0.010316</td>\n",
       "      <td>0.847261</td>\n",
       "      <td>0.551756</td>\n",
       "      <td>0.011988</td>\n",
       "      <td>0.002603</td>\n",
       "    </tr>\n",
       "    <tr>\n",
       "      <th>MSE</th>\n",
       "      <th>cos lr</th>\n",
       "      <td>0.816271</td>\n",
       "      <td>0.553240</td>\n",
       "      <td>0.009983</td>\n",
       "      <td>0.012097</td>\n",
       "      <td>0.830451</td>\n",
       "      <td>0.594194</td>\n",
       "      <td>0.027310</td>\n",
       "      <td>0.033620</td>\n",
       "      <td>0.803408</td>\n",
       "      <td>0.518268</td>\n",
       "      <td>0.023425</td>\n",
       "      <td>0.004754</td>\n",
       "    </tr>\n",
       "    <tr>\n",
       "      <th>MUE</th>\n",
       "      <th>cos lr</th>\n",
       "      <td>0.769184</td>\n",
       "      <td>0.449030</td>\n",
       "      <td>0.014490</td>\n",
       "      <td>0.024467</td>\n",
       "      <td>0.791503</td>\n",
       "      <td>0.393101</td>\n",
       "      <td>0.021002</td>\n",
       "      <td>0.040006</td>\n",
       "      <td>0.748814</td>\n",
       "      <td>0.526094</td>\n",
       "      <td>0.029241</td>\n",
       "      <td>0.005887</td>\n",
       "    </tr>\n",
       "    <tr>\n",
       "      <th>Vecmap</th>\n",
       "      <th>cos lr</th>\n",
       "      <td>0.844189</td>\n",
       "      <td>0.569427</td>\n",
       "      <td>0.012538</td>\n",
       "      <td>0.002997</td>\n",
       "      <td>0.857283</td>\n",
       "      <td>0.604805</td>\n",
       "      <td>0.033153</td>\n",
       "      <td>0.008575</td>\n",
       "      <td>0.832279</td>\n",
       "      <td>0.538010</td>\n",
       "      <td>0.017262</td>\n",
       "      <td>0.002044</td>\n",
       "    </tr>\n",
       "  </tbody>\n",
       "</table>\n",
       "</div>"
      ],
      "text/plain": [
       "              para strict yandex wmt para strict yandex wmt para strict  \\\n",
       "                       f1         f1          f1         f1           p   \n",
       "                     mean       mean         std        std        mean   \n",
       "BiCCA  cos lr    0.827839   0.596666    0.015713   0.002568    0.839732   \n",
       "MFT    cos lr    0.857646   0.591429    0.012919   0.003073    0.868360   \n",
       "MSE    cos lr    0.816271   0.553240    0.009983   0.012097    0.830451   \n",
       "MUE    cos lr    0.769184   0.449030    0.014490   0.024467    0.791503   \n",
       "Vecmap cos lr    0.844189   0.569427    0.012538   0.002997    0.857283   \n",
       "\n",
       "              yandex wmt para strict yandex wmt para strict yandex wmt  \\\n",
       "                       p           p          p           r          r   \n",
       "                    mean         std        std        mean       mean   \n",
       "BiCCA  cos lr   0.633775    0.030854   0.010060    0.816629   0.563749   \n",
       "MFT    cos lr   0.637347    0.016867   0.010316    0.847261   0.551756   \n",
       "MSE    cos lr   0.594194    0.027310   0.033620    0.803408   0.518268   \n",
       "MUE    cos lr   0.393101    0.021002   0.040006    0.748814   0.526094   \n",
       "Vecmap cos lr   0.604805    0.033153   0.008575    0.832279   0.538010   \n",
       "\n",
       "              para strict yandex wmt  \n",
       "                        r          r  \n",
       "                      std        std  \n",
       "BiCCA  cos lr    0.004983   0.003604  \n",
       "MFT    cos lr    0.011988   0.002603  \n",
       "MSE    cos lr    0.023425   0.004754  \n",
       "MUE    cos lr    0.029241   0.005887  \n",
       "Vecmap cos lr    0.017262   0.002044  "
      ]
     },
     "execution_count": 88,
     "metadata": {},
     "output_type": "execute_result"
    }
   ],
   "source": [
    "extrinsic_metrics = []\n",
    "extrinsic_metrics_idx = []\n",
    "for en_model, ru_model, model_name in models:\n",
    "    for pair_clf_name, pair_clf_ctor_maker in PAIR_CLASSIFIERS:\n",
    "        for dataset_name, dataset_splits in EXTRINSIC_DATASETS:\n",
    "            print((datetime.datetime.now(), model_name, pair_clf_name, dataset_name))\n",
    "            extrinsic_metrics_idx.append((model_name, pair_clf_name, dataset_name))\n",
    "            extrinsic_metrics.append(evaluate_extrinsic(en_model,\n",
    "                                                        ru_model,\n",
    "                                                        pair_clf_ctor_maker(en_model.vector_size),\n",
    "                                                        dataset_splits))\n",
    "\n",
    "extrinsic_metrics = pandas.concat(extrinsic_metrics, keys=extrinsic_metrics_idx) \\\n",
    "    .unstack().unstack().swaplevel(0, -1, 1).swaplevel(1, -1, 1)\n",
    "extrinsic_metrics"
   ]
  },
  {
   "cell_type": "code",
   "execution_count": 89,
   "metadata": {
    "ExecuteTime": {
     "end_time": "2018-02-22T09:56:46.539191Z",
     "start_time": "2018-02-22T09:56:46.440641Z"
    }
   },
   "outputs": [
    {
     "data": {
      "text/html": [
       "<div>\n",
       "<style scoped>\n",
       "    .dataframe tbody tr th:only-of-type {\n",
       "        vertical-align: middle;\n",
       "    }\n",
       "\n",
       "    .dataframe tbody tr th {\n",
       "        vertical-align: top;\n",
       "    }\n",
       "\n",
       "    .dataframe thead th {\n",
       "        text-align: right;\n",
       "    }\n",
       "</style>\n",
       "<table border=\"1\" class=\"dataframe\">\n",
       "  <thead>\n",
       "    <tr style=\"text-align: right;\">\n",
       "      <th></th>\n",
       "      <th>para strict f1</th>\n",
       "      <th>yandex wmt f1</th>\n",
       "      <th>para strict p</th>\n",
       "      <th>yandex wmt p</th>\n",
       "      <th>para strict r</th>\n",
       "      <th>yandex wmt r</th>\n",
       "    </tr>\n",
       "  </thead>\n",
       "  <tbody>\n",
       "    <tr>\n",
       "      <th>BiCCA</th>\n",
       "      <td>0.827839</td>\n",
       "      <td>0.596666</td>\n",
       "      <td>0.839732</td>\n",
       "      <td>0.633775</td>\n",
       "      <td>0.816629</td>\n",
       "      <td>0.563749</td>\n",
       "    </tr>\n",
       "    <tr>\n",
       "      <th>MFT</th>\n",
       "      <td>0.857646</td>\n",
       "      <td>0.591429</td>\n",
       "      <td>0.868360</td>\n",
       "      <td>0.637347</td>\n",
       "      <td>0.847261</td>\n",
       "      <td>0.551756</td>\n",
       "    </tr>\n",
       "    <tr>\n",
       "      <th>MSE</th>\n",
       "      <td>0.816271</td>\n",
       "      <td>0.553240</td>\n",
       "      <td>0.830451</td>\n",
       "      <td>0.594194</td>\n",
       "      <td>0.803408</td>\n",
       "      <td>0.518268</td>\n",
       "    </tr>\n",
       "    <tr>\n",
       "      <th>MUE</th>\n",
       "      <td>0.769184</td>\n",
       "      <td>0.449030</td>\n",
       "      <td>0.791503</td>\n",
       "      <td>0.393101</td>\n",
       "      <td>0.748814</td>\n",
       "      <td>0.526094</td>\n",
       "    </tr>\n",
       "    <tr>\n",
       "      <th>Vecmap</th>\n",
       "      <td>0.844189</td>\n",
       "      <td>0.569427</td>\n",
       "      <td>0.857283</td>\n",
       "      <td>0.604805</td>\n",
       "      <td>0.832279</td>\n",
       "      <td>0.538010</td>\n",
       "    </tr>\n",
       "  </tbody>\n",
       "</table>\n",
       "</div>"
      ],
      "text/plain": [
       "        para strict f1  yandex wmt f1  para strict p  yandex wmt p  \\\n",
       "BiCCA         0.827839       0.596666       0.839732      0.633775   \n",
       "MFT           0.857646       0.591429       0.868360      0.637347   \n",
       "MSE           0.816271       0.553240       0.830451      0.594194   \n",
       "MUE           0.769184       0.449030       0.791503      0.393101   \n",
       "Vecmap        0.844189       0.569427       0.857283      0.604805   \n",
       "\n",
       "        para strict r  yandex wmt r  \n",
       "BiCCA        0.816629      0.563749  \n",
       "MFT          0.847261      0.551756  \n",
       "MSE          0.803408      0.518268  \n",
       "MUE          0.748814      0.526094  \n",
       "Vecmap       0.832279      0.538010  "
      ]
     },
     "execution_count": 89,
     "metadata": {},
     "output_type": "execute_result"
    }
   ],
   "source": [
    "extrinsic_metrics_flat = extrinsic_metrics.copy()\n",
    "extrinsic_metrics_flat.drop('std', axis=1, level=2, inplace=True)\n",
    "extrinsic_metrics_flat.columns = [' '.join(t[:-1]) for t in extrinsic_metrics_flat.columns]\n",
    "extrinsic_metrics_flat.index = extrinsic_metrics_flat.index.get_level_values(0)\n",
    "extrinsic_metrics_flat"
   ]
  },
  {
   "cell_type": "markdown",
   "metadata": {},
   "source": [
    "# Analyze metrics"
   ]
  },
  {
   "cell_type": "code",
   "execution_count": 236,
   "metadata": {
    "ExecuteTime": {
     "end_time": "2018-02-22T11:41:22.101792Z",
     "start_time": "2018-02-22T11:41:22.011030Z"
    }
   },
   "outputs": [
    {
     "data": {
      "text/html": [
       "<div>\n",
       "<style scoped>\n",
       "    .dataframe tbody tr th:only-of-type {\n",
       "        vertical-align: middle;\n",
       "    }\n",
       "\n",
       "    .dataframe tbody tr th {\n",
       "        vertical-align: top;\n",
       "    }\n",
       "\n",
       "    .dataframe thead th {\n",
       "        text-align: right;\n",
       "    }\n",
       "</style>\n",
       "<table border=\"1\" class=\"dataframe\">\n",
       "  <thead>\n",
       "    <tr style=\"text-align: right;\">\n",
       "      <th></th>\n",
       "      <th>SimVerb-3074</th>\n",
       "      <th>MEN-1146</th>\n",
       "      <th>RareWord-968</th>\n",
       "      <th>SimLex-739</th>\n",
       "      <th>MTurk-551</th>\n",
       "      <th>SemEval-243</th>\n",
       "      <th>WordRel-193</th>\n",
       "      <th>WordSim-193</th>\n",
       "      <th>Verb-115</th>\n",
       "      <th>YP-111</th>\n",
       "      <th>RG-54</th>\n",
       "      <th>MC-28</th>\n",
       "      <th>WT p@1</th>\n",
       "      <th>WT p@10</th>\n",
       "      <th>WT p@5</th>\n",
       "      <th>Our dataset, f1</th>\n",
       "      <th>EN-RU WMT, f1</th>\n",
       "    </tr>\n",
       "  </thead>\n",
       "  <tbody>\n",
       "    <tr>\n",
       "      <th>BiCCA</th>\n",
       "      <td>0.218046</td>\n",
       "      <td>0.664030</td>\n",
       "      <td>0.425192</td>\n",
       "      <td>0.341557</td>\n",
       "      <td>0.535483</td>\n",
       "      <td>0.608564</td>\n",
       "      <td>0.529424</td>\n",
       "      <td>0.669920</td>\n",
       "      <td>0.265106</td>\n",
       "      <td>0.248969</td>\n",
       "      <td>0.611195</td>\n",
       "      <td>0.720961</td>\n",
       "      <td>0.29</td>\n",
       "      <td>0.56</td>\n",
       "      <td>0.49</td>\n",
       "      <td>0.827839</td>\n",
       "      <td>0.596666</td>\n",
       "    </tr>\n",
       "    <tr>\n",
       "      <th>MFT</th>\n",
       "      <td>0.211617</td>\n",
       "      <td>0.681587</td>\n",
       "      <td>0.430048</td>\n",
       "      <td>0.336201</td>\n",
       "      <td>0.567407</td>\n",
       "      <td>0.616561</td>\n",
       "      <td>0.552381</td>\n",
       "      <td>0.705907</td>\n",
       "      <td>0.269525</td>\n",
       "      <td>0.251166</td>\n",
       "      <td>0.674324</td>\n",
       "      <td>0.696039</td>\n",
       "      <td>0.21</td>\n",
       "      <td>0.45</td>\n",
       "      <td>0.38</td>\n",
       "      <td>0.857646</td>\n",
       "      <td>0.591429</td>\n",
       "    </tr>\n",
       "    <tr>\n",
       "      <th>MSE</th>\n",
       "      <td>0.200728</td>\n",
       "      <td>0.675030</td>\n",
       "      <td>0.435278</td>\n",
       "      <td>0.344031</td>\n",
       "      <td>0.555848</td>\n",
       "      <td>0.603852</td>\n",
       "      <td>0.549236</td>\n",
       "      <td>0.689278</td>\n",
       "      <td>0.237874</td>\n",
       "      <td>0.216590</td>\n",
       "      <td>0.679475</td>\n",
       "      <td>0.674514</td>\n",
       "      <td>0.31</td>\n",
       "      <td>0.61</td>\n",
       "      <td>0.54</td>\n",
       "      <td>0.816271</td>\n",
       "      <td>0.553240</td>\n",
       "    </tr>\n",
       "    <tr>\n",
       "      <th>MUE</th>\n",
       "      <td>0.199020</td>\n",
       "      <td>0.658349</td>\n",
       "      <td>0.419917</td>\n",
       "      <td>0.315084</td>\n",
       "      <td>0.510642</td>\n",
       "      <td>0.564960</td>\n",
       "      <td>0.527156</td>\n",
       "      <td>0.669226</td>\n",
       "      <td>0.388100</td>\n",
       "      <td>0.373077</td>\n",
       "      <td>0.667048</td>\n",
       "      <td>0.704626</td>\n",
       "      <td>0.17</td>\n",
       "      <td>0.46</td>\n",
       "      <td>0.35</td>\n",
       "      <td>0.769184</td>\n",
       "      <td>0.449030</td>\n",
       "    </tr>\n",
       "    <tr>\n",
       "      <th>Vecmap</th>\n",
       "      <td>0.226787</td>\n",
       "      <td>0.690194</td>\n",
       "      <td>0.428472</td>\n",
       "      <td>0.354032</td>\n",
       "      <td>0.570920</td>\n",
       "      <td>0.614034</td>\n",
       "      <td>0.569648</td>\n",
       "      <td>0.723163</td>\n",
       "      <td>0.272304</td>\n",
       "      <td>0.250610</td>\n",
       "      <td>0.631382</td>\n",
       "      <td>0.713618</td>\n",
       "      <td>0.32</td>\n",
       "      <td>0.59</td>\n",
       "      <td>0.52</td>\n",
       "      <td>0.844189</td>\n",
       "      <td>0.569427</td>\n",
       "    </tr>\n",
       "  </tbody>\n",
       "</table>\n",
       "</div>"
      ],
      "text/plain": [
       "        SimVerb-3074  MEN-1146  RareWord-968  SimLex-739  MTurk-551  \\\n",
       "BiCCA       0.218046  0.664030      0.425192    0.341557   0.535483   \n",
       "MFT         0.211617  0.681587      0.430048    0.336201   0.567407   \n",
       "MSE         0.200728  0.675030      0.435278    0.344031   0.555848   \n",
       "MUE         0.199020  0.658349      0.419917    0.315084   0.510642   \n",
       "Vecmap      0.226787  0.690194      0.428472    0.354032   0.570920   \n",
       "\n",
       "        SemEval-243  WordRel-193  WordSim-193  Verb-115    YP-111     RG-54  \\\n",
       "BiCCA      0.608564     0.529424     0.669920  0.265106  0.248969  0.611195   \n",
       "MFT        0.616561     0.552381     0.705907  0.269525  0.251166  0.674324   \n",
       "MSE        0.603852     0.549236     0.689278  0.237874  0.216590  0.679475   \n",
       "MUE        0.564960     0.527156     0.669226  0.388100  0.373077  0.667048   \n",
       "Vecmap     0.614034     0.569648     0.723163  0.272304  0.250610  0.631382   \n",
       "\n",
       "           MC-28  WT p@1  WT p@10  WT p@5  Our dataset, f1  EN-RU WMT, f1  \n",
       "BiCCA   0.720961    0.29     0.56    0.49         0.827839       0.596666  \n",
       "MFT     0.696039    0.21     0.45    0.38         0.857646       0.591429  \n",
       "MSE     0.674514    0.31     0.61    0.54         0.816271       0.553240  \n",
       "MUE     0.704626    0.17     0.46    0.35         0.769184       0.449030  \n",
       "Vecmap  0.713618    0.32     0.59    0.52         0.844189       0.569427  "
      ]
     },
     "metadata": {},
     "output_type": "display_data"
    },
    {
     "data": {
      "text/html": [
       "<div>\n",
       "<style scoped>\n",
       "    .dataframe tbody tr th:only-of-type {\n",
       "        vertical-align: middle;\n",
       "    }\n",
       "\n",
       "    .dataframe tbody tr th {\n",
       "        vertical-align: top;\n",
       "    }\n",
       "\n",
       "    .dataframe thead th {\n",
       "        text-align: right;\n",
       "    }\n",
       "</style>\n",
       "<table border=\"1\" class=\"dataframe\">\n",
       "  <thead>\n",
       "    <tr style=\"text-align: right;\">\n",
       "      <th></th>\n",
       "      <th>SimVerb-3074</th>\n",
       "      <th>MEN-1146</th>\n",
       "      <th>RareWord-968</th>\n",
       "      <th>SimLex-739</th>\n",
       "      <th>MTurk-551</th>\n",
       "      <th>SemEval-243</th>\n",
       "      <th>WordRel-193</th>\n",
       "      <th>WordSim-193</th>\n",
       "      <th>Verb-115</th>\n",
       "      <th>YP-111</th>\n",
       "      <th>RG-54</th>\n",
       "      <th>MC-28</th>\n",
       "      <th>WT p@1</th>\n",
       "      <th>WT p@10</th>\n",
       "      <th>WT p@5</th>\n",
       "      <th>Our dataset, f1</th>\n",
       "      <th>EN-RU WMT, f1</th>\n",
       "    </tr>\n",
       "  </thead>\n",
       "  <tbody>\n",
       "    <tr>\n",
       "      <th>BiCCA</th>\n",
       "      <td>0.581498</td>\n",
       "      <td>-0.760620</td>\n",
       "      <td>-0.453656</td>\n",
       "      <td>0.233732</td>\n",
       "      <td>-0.501510</td>\n",
       "      <td>0.330913</td>\n",
       "      <td>-0.917210</td>\n",
       "      <td>-0.924999</td>\n",
       "      <td>-0.367849</td>\n",
       "      <td>-0.316022</td>\n",
       "      <td>-1.389277</td>\n",
       "      <td>1.057550</td>\n",
       "      <td>0.452267</td>\n",
       "      <td>0.349632</td>\n",
       "      <td>0.397125</td>\n",
       "      <td>0.141730</td>\n",
       "      <td>0.743635</td>\n",
       "    </tr>\n",
       "    <tr>\n",
       "      <th>MFT</th>\n",
       "      <td>0.032267</td>\n",
       "      <td>0.600957</td>\n",
       "      <td>0.397068</td>\n",
       "      <td>-0.137127</td>\n",
       "      <td>0.771429</td>\n",
       "      <td>0.710596</td>\n",
       "      <td>0.387008</td>\n",
       "      <td>0.617614</td>\n",
       "      <td>-0.292151</td>\n",
       "      <td>-0.279702</td>\n",
       "      <td>0.724576</td>\n",
       "      <td>-0.328937</td>\n",
       "      <td>-0.753778</td>\n",
       "      <td>-1.129579</td>\n",
       "      <td>-0.887691</td>\n",
       "      <td>1.019328</td>\n",
       "      <td>0.656529</td>\n",
       "    </tr>\n",
       "    <tr>\n",
       "      <th>MSE</th>\n",
       "      <td>-0.898082</td>\n",
       "      <td>0.092441</td>\n",
       "      <td>1.313112</td>\n",
       "      <td>0.405102</td>\n",
       "      <td>0.310552</td>\n",
       "      <td>0.107188</td>\n",
       "      <td>0.208338</td>\n",
       "      <td>-0.095201</td>\n",
       "      <td>-0.834276</td>\n",
       "      <td>-0.851369</td>\n",
       "      <td>0.897082</td>\n",
       "      <td>-1.526436</td>\n",
       "      <td>0.753778</td>\n",
       "      <td>1.022000</td>\n",
       "      <td>0.981132</td>\n",
       "      <td>-0.198887</td>\n",
       "      <td>0.021317</td>\n",
       "    </tr>\n",
       "    <tr>\n",
       "      <th>MUE</th>\n",
       "      <td>-1.043980</td>\n",
       "      <td>-1.201197</td>\n",
       "      <td>-1.377543</td>\n",
       "      <td>-1.599298</td>\n",
       "      <td>-1.491999</td>\n",
       "      <td>-1.739318</td>\n",
       "      <td>-1.046079</td>\n",
       "      <td>-0.954741</td>\n",
       "      <td>1.738825</td>\n",
       "      <td>1.735976</td>\n",
       "      <td>0.480946</td>\n",
       "      <td>0.148792</td>\n",
       "      <td>-1.356801</td>\n",
       "      <td>-0.995106</td>\n",
       "      <td>-1.238095</td>\n",
       "      <td>-1.585269</td>\n",
       "      <td>-1.712044</td>\n",
       "    </tr>\n",
       "    <tr>\n",
       "      <th>Vecmap</th>\n",
       "      <td>1.328297</td>\n",
       "      <td>1.268420</td>\n",
       "      <td>0.121019</td>\n",
       "      <td>1.097590</td>\n",
       "      <td>0.911527</td>\n",
       "      <td>0.590621</td>\n",
       "      <td>1.367942</td>\n",
       "      <td>1.357327</td>\n",
       "      <td>-0.244549</td>\n",
       "      <td>-0.288884</td>\n",
       "      <td>-0.713326</td>\n",
       "      <td>0.649032</td>\n",
       "      <td>0.904534</td>\n",
       "      <td>0.753053</td>\n",
       "      <td>0.747529</td>\n",
       "      <td>0.623098</td>\n",
       "      <td>0.290562</td>\n",
       "    </tr>\n",
       "  </tbody>\n",
       "</table>\n",
       "</div>"
      ],
      "text/plain": [
       "        SimVerb-3074  MEN-1146  RareWord-968  SimLex-739  MTurk-551  \\\n",
       "BiCCA       0.581498 -0.760620     -0.453656    0.233732  -0.501510   \n",
       "MFT         0.032267  0.600957      0.397068   -0.137127   0.771429   \n",
       "MSE        -0.898082  0.092441      1.313112    0.405102   0.310552   \n",
       "MUE        -1.043980 -1.201197     -1.377543   -1.599298  -1.491999   \n",
       "Vecmap      1.328297  1.268420      0.121019    1.097590   0.911527   \n",
       "\n",
       "        SemEval-243  WordRel-193  WordSim-193  Verb-115    YP-111     RG-54  \\\n",
       "BiCCA      0.330913    -0.917210    -0.924999 -0.367849 -0.316022 -1.389277   \n",
       "MFT        0.710596     0.387008     0.617614 -0.292151 -0.279702  0.724576   \n",
       "MSE        0.107188     0.208338    -0.095201 -0.834276 -0.851369  0.897082   \n",
       "MUE       -1.739318    -1.046079    -0.954741  1.738825  1.735976  0.480946   \n",
       "Vecmap     0.590621     1.367942     1.357327 -0.244549 -0.288884 -0.713326   \n",
       "\n",
       "           MC-28    WT p@1   WT p@10    WT p@5  Our dataset, f1  EN-RU WMT, f1  \n",
       "BiCCA   1.057550  0.452267  0.349632  0.397125         0.141730       0.743635  \n",
       "MFT    -0.328937 -0.753778 -1.129579 -0.887691         1.019328       0.656529  \n",
       "MSE    -1.526436  0.753778  1.022000  0.981132        -0.198887       0.021317  \n",
       "MUE     0.148792 -1.356801 -0.995106 -1.238095        -1.585269      -1.712044  \n",
       "Vecmap  0.649032  0.904534  0.753053  0.747529         0.623098       0.290562  "
      ]
     },
     "metadata": {},
     "output_type": "display_data"
    },
    {
     "data": {
      "text/html": [
       "<div>\n",
       "<style scoped>\n",
       "    .dataframe tbody tr th:only-of-type {\n",
       "        vertical-align: middle;\n",
       "    }\n",
       "\n",
       "    .dataframe tbody tr th {\n",
       "        vertical-align: top;\n",
       "    }\n",
       "\n",
       "    .dataframe thead th {\n",
       "        text-align: right;\n",
       "    }\n",
       "</style>\n",
       "<table border=\"1\" class=\"dataframe\">\n",
       "  <thead>\n",
       "    <tr style=\"text-align: right;\">\n",
       "      <th></th>\n",
       "      <th>SimVerb-3074</th>\n",
       "      <th>MEN-1146</th>\n",
       "      <th>RareWord-968</th>\n",
       "      <th>SimLex-739</th>\n",
       "      <th>MTurk-551</th>\n",
       "      <th>SemEval-243</th>\n",
       "      <th>WordRel-193</th>\n",
       "      <th>WordSim-193</th>\n",
       "      <th>Verb-115</th>\n",
       "      <th>YP-111</th>\n",
       "      <th>RG-54</th>\n",
       "      <th>MC-28</th>\n",
       "      <th>WT p@1</th>\n",
       "      <th>WT p@10</th>\n",
       "      <th>WT p@5</th>\n",
       "      <th>Our dataset, f1</th>\n",
       "      <th>EN-RU WMT, f1</th>\n",
       "    </tr>\n",
       "  </thead>\n",
       "  <tbody>\n",
       "    <tr>\n",
       "      <th>BiCCA</th>\n",
       "      <td>2</td>\n",
       "      <td>4</td>\n",
       "      <td>4</td>\n",
       "      <td>3</td>\n",
       "      <td>4</td>\n",
       "      <td>3</td>\n",
       "      <td>4</td>\n",
       "      <td>4</td>\n",
       "      <td>4</td>\n",
       "      <td>4</td>\n",
       "      <td>5</td>\n",
       "      <td>1</td>\n",
       "      <td>3</td>\n",
       "      <td>3</td>\n",
       "      <td>3</td>\n",
       "      <td>3</td>\n",
       "      <td>1</td>\n",
       "    </tr>\n",
       "    <tr>\n",
       "      <th>MFT</th>\n",
       "      <td>3</td>\n",
       "      <td>2</td>\n",
       "      <td>2</td>\n",
       "      <td>4</td>\n",
       "      <td>2</td>\n",
       "      <td>1</td>\n",
       "      <td>2</td>\n",
       "      <td>2</td>\n",
       "      <td>3</td>\n",
       "      <td>2</td>\n",
       "      <td>2</td>\n",
       "      <td>4</td>\n",
       "      <td>4</td>\n",
       "      <td>5</td>\n",
       "      <td>4</td>\n",
       "      <td>1</td>\n",
       "      <td>2</td>\n",
       "    </tr>\n",
       "    <tr>\n",
       "      <th>MSE</th>\n",
       "      <td>4</td>\n",
       "      <td>3</td>\n",
       "      <td>1</td>\n",
       "      <td>2</td>\n",
       "      <td>3</td>\n",
       "      <td>4</td>\n",
       "      <td>3</td>\n",
       "      <td>3</td>\n",
       "      <td>5</td>\n",
       "      <td>5</td>\n",
       "      <td>1</td>\n",
       "      <td>5</td>\n",
       "      <td>2</td>\n",
       "      <td>1</td>\n",
       "      <td>1</td>\n",
       "      <td>4</td>\n",
       "      <td>4</td>\n",
       "    </tr>\n",
       "    <tr>\n",
       "      <th>MUE</th>\n",
       "      <td>5</td>\n",
       "      <td>5</td>\n",
       "      <td>5</td>\n",
       "      <td>5</td>\n",
       "      <td>5</td>\n",
       "      <td>5</td>\n",
       "      <td>5</td>\n",
       "      <td>5</td>\n",
       "      <td>1</td>\n",
       "      <td>1</td>\n",
       "      <td>3</td>\n",
       "      <td>3</td>\n",
       "      <td>5</td>\n",
       "      <td>4</td>\n",
       "      <td>5</td>\n",
       "      <td>5</td>\n",
       "      <td>5</td>\n",
       "    </tr>\n",
       "    <tr>\n",
       "      <th>Vecmap</th>\n",
       "      <td>1</td>\n",
       "      <td>1</td>\n",
       "      <td>3</td>\n",
       "      <td>1</td>\n",
       "      <td>1</td>\n",
       "      <td>2</td>\n",
       "      <td>1</td>\n",
       "      <td>1</td>\n",
       "      <td>2</td>\n",
       "      <td>3</td>\n",
       "      <td>4</td>\n",
       "      <td>2</td>\n",
       "      <td>1</td>\n",
       "      <td>2</td>\n",
       "      <td>2</td>\n",
       "      <td>2</td>\n",
       "      <td>3</td>\n",
       "    </tr>\n",
       "  </tbody>\n",
       "</table>\n",
       "</div>"
      ],
      "text/plain": [
       "        SimVerb-3074  MEN-1146  RareWord-968  SimLex-739  MTurk-551  \\\n",
       "BiCCA              2         4             4           3          4   \n",
       "MFT                3         2             2           4          2   \n",
       "MSE                4         3             1           2          3   \n",
       "MUE                5         5             5           5          5   \n",
       "Vecmap             1         1             3           1          1   \n",
       "\n",
       "        SemEval-243  WordRel-193  WordSim-193  Verb-115  YP-111  RG-54  MC-28  \\\n",
       "BiCCA             3            4            4         4       4      5      1   \n",
       "MFT               1            2            2         3       2      2      4   \n",
       "MSE               4            3            3         5       5      1      5   \n",
       "MUE               5            5            5         1       1      3      3   \n",
       "Vecmap            2            1            1         2       3      4      2   \n",
       "\n",
       "        WT p@1  WT p@10  WT p@5  Our dataset, f1  EN-RU WMT, f1  \n",
       "BiCCA        3        3       3                3              1  \n",
       "MFT          4        5       4                1              2  \n",
       "MSE          2        1       1                4              4  \n",
       "MUE          5        4       5                5              5  \n",
       "Vecmap       1        2       2                2              3  "
      ]
     },
     "metadata": {},
     "output_type": "display_data"
    }
   ],
   "source": [
    "joint_metrics = pandas.concat([intrinsic_metrics, word_translation_metrics, extrinsic_metrics_flat], axis=1)\n",
    "joint_metrics.rename({'{} {}'.format(old_pref, metric) : '{} {}'.format(new_pref, metric)\n",
    "                      for old_pref, new_pref in [('para strict', 'Our dataset,'),\n",
    "                                                 ('yandex wmt', 'EN-RU WMT,')]\n",
    "                      for metric in ['f1', 'p', 'r'] },\n",
    "                     inplace=True,\n",
    "                     axis=1)\n",
    "joint_metrics.drop([c for c in joint_metrics.columns if c.endswith(' r') or  c.endswith(' p')],\n",
    "                   inplace=True,\n",
    "                   axis=1)\n",
    "display(joint_metrics)\n",
    "joint_metrics_norm = (joint_metrics - joint_metrics.mean(0)) / joint_metrics.std(0)\n",
    "display(joint_metrics_norm)\n",
    "joint_metrics_order = joint_metrics.apply(lambda s: (-s).argsort().argsort() + 1)\n",
    "display(joint_metrics_order)"
   ]
  },
  {
   "cell_type": "code",
   "execution_count": 237,
   "metadata": {
    "ExecuteTime": {
     "end_time": "2018-02-22T11:41:28.098776Z",
     "start_time": "2018-02-22T11:41:28.092844Z"
    },
    "collapsed": true
   },
   "outputs": [],
   "source": [
    "joint_metrics.to_csv('../../plag/join_metrics_{}.csv'.format(datetime.datetime.now().isoformat()))"
   ]
  },
  {
   "cell_type": "code",
   "execution_count": 238,
   "metadata": {
    "ExecuteTime": {
     "end_time": "2018-02-22T11:41:46.598869Z",
     "start_time": "2018-02-22T11:41:46.478550Z"
    },
    "collapsed": true
   },
   "outputs": [],
   "source": [
    "METHOD_COLORS = pandas.Series({\n",
    "    'BiCCA' : (0.8, 0.1, 0.3),\n",
    "    'MFT' : (0.8, 0.1, 0.3),\n",
    "    'MSE' : (0.8, 0.1, 0.3),\n",
    "    'MUE' : (0.1, 0.8, 0.5),\n",
    "    'Vecmap' : (0.8, 0.1, 0.3)\n",
    "})\n",
    "DATASET_COLORS = pandas.Series({\n",
    "    'SimVerb-3074' : (0.15, 0.4, 0.8),\n",
    "    'MEN-1146' : (0.1, 0.8, 0.5),\n",
    "    'RareWord-968' : (0.9, 0.7, 0.2),\n",
    "    'SimLex-739' : (0.9, 0.7, 0.2),\n",
    "    'MTurk-551' : (0.1, 0.8, 0.5),\n",
    "    'SemEval-243' : (0.9, 0.7, 0.2),\n",
    "    'WordRel-193' : (0.1, 0.8, 0.5),\n",
    "    'WordSim-193' : (0.9, 0.7, 0.2),\n",
    "    'Verb-115' : (0.15, 0.4, 0.8),\n",
    "    'YP-111' : (0.15, 0.4, 0.8),\n",
    "    'RG-54' : (0.9, 0.7, 0.2),\n",
    "    'MC-28' : (0.9, 0.7, 0.2),\n",
    "    'Our dataset, f1' : (0.8, 0.1, 0.3),\n",
    "    'Our p' : (0.8, 0.1, 0.3),\n",
    "    'Our r' : (0.8, 0.1, 0.3),\n",
    "    'EN-RU WMT, f1' : (0.8, 0.1, 0.3),\n",
    "    'Yandex p' : (0.8, 0.1, 0.3),\n",
    "    'Yandex r' : (0.8, 0.1, 0.3),\n",
    "    'WT p@1' : (0.5, 0.1, 0.9),\n",
    "    'WT p@5' : (0.5, 0.1, 0.9),\n",
    "    'WT p@10' : (0.5, 0.1, 0.9),\n",
    "})\n",
    "\n",
    "def make_clustermap(metrics, method='average',\n",
    "#                     metric='correlation',\n",
    "                    metric=lambda a, b: 1 - scipy.stats.spearmanr(a, b)[0],\n",
    "                    figsize=(4.3, 4.3), row_colors=METHOD_COLORS, col_colors=DATASET_COLORS, out_file_prefix=None):\n",
    "#     cm1 = sns.clustermap(metrics, method=method, metric=metric, figsize=figsize,\n",
    "#                          row_colors=row_colors, col_colors=col_colors)\n",
    "    cm2 = sns.clustermap(metrics.corr(), method=method, metric=metric, figsize=figsize,\n",
    "                         row_colors=col_colors, col_colors=col_colors)\n",
    "#     cm3 = sns.clustermap(metrics.transpose().corr(), col_cluster=False, method=method, metric=metric)\n",
    "    if out_file_prefix:\n",
    "#         cm1.savefig(out_file_prefix + 'methods_over_datasets.eps')\n",
    "#         cm1.savefig(out_file_prefix + 'methods_over_datasets.png')\n",
    "        cm2.savefig(out_file_prefix + 'datasets_over_datasets.eps')\n",
    "        cm2.savefig(out_file_prefix + 'datasets_over_datasets.png')\n",
    "#         cm3.savefig(out_file_prefix + 'methods_over_methods.eps')\n",
    "#         cm3.savefig(out_file_prefix + 'methods_over_methods.png')"
   ]
  },
  {
   "cell_type": "code",
   "execution_count": 240,
   "metadata": {
    "ExecuteTime": {
     "end_time": "2018-02-22T13:46:21.604531Z",
     "start_time": "2018-02-22T13:46:19.916938Z"
    },
    "scrolled": false
   },
   "outputs": [
    {
     "data": {
      "image/png": "[encoded data removed]",
      "text/plain": [
       "<matplotlib.figure.Figure at 0x7f28fbce7a58>"
      ]
     },
     "metadata": {},
     "output_type": "display_data"
    }
   ],
   "source": [
    "make_clustermap(joint_metrics, out_file_prefix='../../plag/joint_metrics_real_')"
   ]
  },
  {
   "cell_type": "code",
   "execution_count": 187,
   "metadata": {
    "ExecuteTime": {
     "end_time": "2018-02-22T11:04:00.445921Z",
     "start_time": "2018-02-22T11:04:00.443361Z"
    },
    "collapsed": true,
    "scrolled": false
   },
   "outputs": [],
   "source": [
    "# make_clustermap(joint_metrics_order, out_file_prefix='../../plag/joint_metrics_order_')"
   ]
  },
  {
   "cell_type": "code",
   "execution_count": 189,
   "metadata": {
    "ExecuteTime": {
     "end_time": "2018-02-22T11:04:03.711670Z",
     "start_time": "2018-02-22T11:04:03.708104Z"
    },
    "collapsed": true
   },
   "outputs": [],
   "source": [
    "# make_clustermap(joint_metrics_norm, out_file_prefix='../../plag/joint_metrics_order_')"
   ]
  },
  {
   "cell_type": "code",
   "execution_count": null,
   "metadata": {
    "collapsed": true
   },
   "outputs": [],
   "source": []
  }
 ],
 "metadata": {
  "kernelspec": {
   "display_name": "Python 3",
   "language": "python",
   "name": "python3"
  },
  "language_info": {
   "codemirror_mode": {
    "name": "ipython",
    "version": 3
   },
   "file_extension": ".py",
   "mimetype": "text/x-python",
   "name": "python",
   "nbconvert_exporter": "python",
   "pygments_lexer": "ipython3",
   "version": "3.6.1"
  },
  "notify_time": "10",
  "toc": {
   "colors": {
    "hover_highlight": "#DAA520",
    "running_highlight": "#FF0000",
    "selected_highlight": "#FFD700"
   },
   "moveMenuLeft": true,
   "nav_menu": {
    "height": "333px",
    "width": "252px"
   },
   "navigate_menu": true,
   "number_sections": true,
   "sideBar": true,
   "threshold": 4,
   "toc_cell": false,
   "toc_position": {
    "height": "848px",
    "left": "0px",
    "right": "1708px",
    "top": "111px",
    "width": "212px"
   },
   "toc_section_display": "block",
   "toc_window_display": true
  }
 },
 "nbformat": 4,
 "nbformat_minor": 2
}

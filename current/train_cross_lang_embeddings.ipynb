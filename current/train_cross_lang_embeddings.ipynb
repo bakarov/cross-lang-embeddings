{
 "cells": [
  {
   "cell_type": "code",
   "execution_count": 25,
   "metadata": {},
   "outputs": [],
   "source": [
    "from os import walk, path\n",
    "from itertools import combinations, product\n",
    "from subprocess import Popen, PIPE"
   ]
  },
  {
   "cell_type": "code",
   "execution_count": 8,
   "metadata": {},
   "outputs": [],
   "source": [
    "russian_models = []\n",
    "\n",
    "for a, b, c in walk(path.join('..', 'monolang', 'MODELS', 'Word2Vec', 'russian')):\n",
    "    for q in c:\n",
    "        russian_models.append(path.join(a, q))"
   ]
  },
  {
   "cell_type": "code",
   "execution_count": 9,
   "metadata": {},
   "outputs": [],
   "source": [
    "english_models = []\n",
    "\n",
    "for a, b, c in walk(path.join('..', 'monolang', 'MODELS', 'Word2Vec', 'english')):\n",
    "    for q in c:\n",
    "        english_models.append(path.join(a, q))"
   ]
  },
  {
   "cell_type": "code",
   "execution_count": 14,
   "metadata": {},
   "outputs": [],
   "source": [
    "combs = list(product(russian_models, english_models))"
   ]
  },
  {
   "cell_type": "code",
   "execution_count": 40,
   "metadata": {},
   "outputs": [],
   "source": [
    "def remove_pos(model):\n",
    "    model_vocab = set()\n",
    "    new_model = []\n",
    "    # new_model.append(model[0])\n",
    "    for line in model[1:~0]:\n",
    "        word, vector = line.split(' ', 1)\n",
    "        word = word.split('_')[0]\n",
    "        if word not in model_vocab:\n",
    "            model_vocab.add(word)\n",
    "            new_model.append('{} {}\\n'.format(word, vector))\n",
    "    vocab_size = len(model_vocab)\n",
    "    vector_size = model[0].split(' ')[1]\n",
    "    return ['{} {}\\n'.format(vocab_size, vector_size)] + new_model"
   ]
  },
  {
   "cell_type": "code",
   "execution_count": 41,
   "metadata": {},
   "outputs": [],
   "source": [
    "def create_model_for_training(model_path, model_lang):\n",
    "    with open(model_path, 'r') as f:\n",
    "        model = f.read().split('\\n')\n",
    "    new_model = remove_pos(model)\n",
    "    with open(path.join('..', 'cross-lang', 'MUSE', '{}.vec'.format(model_lang)), 'w') as f:\n",
    "        for line in new_model:\n",
    "            f.write(line)"
   ]
  },
  {
   "cell_type": "code",
   "execution_count": null,
   "metadata": {},
   "outputs": [],
   "source": [
    "for model_1, model_2 in combs[:1]:\n",
    "    ru_name, en_name = model_1.split('/')[~0].split('.')[0], model_2.split('/')[~0].split('.')[0]\n",
    "    create_model_for_training(model_1, 'ru')\n",
    "    create_model_for_training(model_1, 'en')\n",
    "    bashCommand = 'python ../cross-lang/MUSE/supervised.py --src_lang en --tgt_lang ru --src_emb en.vec tgt_emb ru.vec --dico_train default --cuda 0 --exp_path /notebook/cross-lang'\n",
    "    bashCommand += ' --exp_name ' + '{}-{}'.format(en_name, ru_name)\n",
    "    process = Popen(bashCommand.split(), stdout=PIPE)\n",
    "    output, error = process.communicate()"
   ]
  },
  {
   "cell_type": "code",
   "execution_count": null,
   "metadata": {},
   "outputs": [],
   "source": []
  }
 ],
 "metadata": {
  "kernelspec": {
   "display_name": "Python 3",
   "language": "python",
   "name": "python3"
  },
  "language_info": {
   "codemirror_mode": {
    "name": "ipython",
    "version": 3
   },
   "file_extension": ".py",
   "mimetype": "text/x-python",
   "name": "python",
   "nbconvert_exporter": "python",
   "pygments_lexer": "ipython3",
   "version": "3.6.4"
  }
 },
 "nbformat": 4,
 "nbformat_minor": 2
}
